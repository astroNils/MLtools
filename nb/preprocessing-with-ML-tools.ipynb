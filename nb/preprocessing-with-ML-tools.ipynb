{
 "cells": [
  {
   "cell_type": "markdown",
   "id": "2530610c-f2a7-45da-9069-b8fd19ebd5ec",
   "metadata": {},
   "source": [
    "# Preprocessing of images (whole process) for a single image\n",
    "\n",
    "<font color='red'>THIS SCRIPT ONLY WORKS IF NO MULTIPOLYGONS ARE IN THE BOULDER SHAPEFILES. PLEASE CHECK BY USING THE CHECK VALIDATE GEOMETRY TOOL OF QGIS.</font>"
   ]
  },
  {
   "cell_type": "code",
   "execution_count": 1,
   "id": "fc090a52-2543-4e4b-a5bc-4aa942aade06",
   "metadata": {},
   "outputs": [
    {
     "name": "stderr",
     "output_type": "stream",
     "text": [
      "/home/nilscp/.pyenv/versions/3.8.0/envs/computer-vision/lib/python3.8/site-packages/geopandas/_compat.py:106: UserWarning: The Shapely GEOS version (3.8.0-CAPI-1.13.1 ) is incompatible with the GEOS version PyGEOS was compiled with (3.10.1-CAPI-1.16.0). Conversions between both will be slow.\n",
      "  warnings.warn(\n"
     ]
    }
   ],
   "source": [
    "import json\n",
    "import geopandas as gpd\n",
    "import numpy as np\n",
    "import pandas as pd\n",
    "import rasterio as rio\n",
    "import sys\n",
    "\n",
    "sys.path.append(\"/home/nilscp/GIT/BOULDERING/tools/graticule\")\n",
    "sys.path.append(\"/home/nilscp/GIT/\")\n",
    "\n",
    "#from detectron2.data import MetadataCatalog, DatasetCatalog\n",
    "from graticule import grid\n",
    "from MLtools import create_annotations\n",
    "from pathlib import Path\n",
    "from rastertools import raster\n",
    "from shptools import polygon\n",
    "from affine import Affine\n",
    "from tqdm import tqdm\n",
    "from shapely import geometry"
   ]
  },
  {
   "cell_type": "markdown",
   "id": "973a0b46-ecc3-44a6-b991-064827ca4752",
   "metadata": {
    "tags": []
   },
   "source": [
    "## 1. Tiling of images from raster (global)\n",
    "\n",
    "This part can be skipped if the grid was generated in QGIS: \n",
    "1. Processing/Toolbox/Create Grid/\n",
    "2. Set Grid type to Rectangle (Polygon)\n",
    "3. Grid extent is set to the extent of the raster\n",
    "4. Horizontal/Vertical spacing is in meters, and we want to have boxes that are 500x500 px, so you just have to multiply the resolution of the image by 500\n",
    "\n",
    "**If you want to do it with python, and the script I have written... See below**\n",
    "\n",
    "## a) Generate a global rectangle grid (polygon) from a single raster\n",
    "I know that you have done this step already, but I would like you to rerun it so that you get the `tile_id column`. "
   ]
  },
  {
   "cell_type": "markdown",
   "id": "96541c49-0f26-4ada-a5ea-3edea4684402",
   "metadata": {},
   "source": [
    "<font color='red'>-------INPUTS-------</font>"
   ]
  },
  {
   "cell_type": "code",
   "execution_count": 2,
   "id": "fcc703fc-1c1c-41b8-afb5-416d838a955e",
   "metadata": {},
   "outputs": [],
   "source": [
    "in_raster = Path(\"/home/nilscp/BOULDERING/qgis/moon/censorinus/NAC/reference-for-coreg/M139694087LE.tif\")\n",
    "block_width = 500 # in pixels\n",
    "block_height = 500 # in pixels"
   ]
  },
  {
   "cell_type": "markdown",
   "id": "159a4b40-7c6d-4f98-9596-973b02211a36",
   "metadata": {},
   "source": [
    "<font color='red'>-------OUTPUT-------</font>"
   ]
  },
  {
   "cell_type": "code",
   "execution_count": 3,
   "id": "fa195cad-ba28-4d76-96ce-c43eea88d873",
   "metadata": {},
   "outputs": [],
   "source": [
    "graticule_name = Path('/home/nilscp/tmp/preprocessing/shapefiles/Censorinus-M139694087LE-v001-global-tiles.shp')"
   ]
  },
  {
   "cell_type": "code",
   "execution_count": 9,
   "id": "cd5832e2-432f-41d5-8ed1-fd2e115079ee",
   "metadata": {},
   "outputs": [
    {
     "name": "stdout",
     "output_type": "stream",
     "text": [
      "pickle /home/nilscp/tmp/preprocessing/shapefiles/Censorinus-M139694087LE-v001-global-tiles.pkl has been generated\n",
      "shapefile /home/nilscp/tmp/preprocessing/shapefiles/Censorinus-M139694087LE-v001-global-tiles.shp has been generated\n"
     ]
    }
   ],
   "source": [
    "(df_global, gdf_global) = create_annotations.generate_graticule_from_raster(in_raster, block_width, block_height, graticule_name)"
   ]
  },
  {
   "cell_type": "markdown",
   "id": "778249b8-4d3b-4a92-bc60-d05c93d925c8",
   "metadata": {},
   "source": [
    "## b) Generate a global rectangle grid (polygon) from multiple rasters \n",
    "Just loop through the code above (here is an example by putting the same rasters and graticules in the same list. \n",
    "```python\n",
    "in_rasters = [Path(\"/home/nilscp/BOULDERING/qgis/moon/censorinus/NAC/reference-for-coreg/M139694087LE.tif\"),\n",
    "              Path(\"/home/nilscp/BOULDERING/qgis/moon/censorinus/NAC/reference-for-coreg/M139694087LE.tif\")]\n",
    "\n",
    "graticule_name = [Path(\"/home/nilscp/tmp/preprocessing/global-graticule.shp\"),\n",
    "                  Path(\"/home/nilscp/tmp/preprocessing/global-graticule.shp\"),]\n",
    "\n",
    "for i, in_raster in enumerate(in_rasters):\n",
    "    (df_global_1, gdf_global_1) = create_annotations.generate_graticule_from_raster(in_raster, block_width, block_height, graticule_name[i])\n",
    "    (df_global_2, gdf_global_2) = create_annotations.generate_graticule_from_raster(in_raster, block_width, block_height, graticule_name[i])\n",
    "```\n",
    "NB! This is a MARKDOWN cell!"
   ]
  },
  {
   "cell_type": "markdown",
   "id": "a25b9b28-7d81-491a-927f-2ebd16d0c5a5",
   "metadata": {},
   "source": [
    "## 2. Selection of the 500x500 pixels you are working with\n",
    "\n",
    "<font color='red'>-------MANUAL STEP REQUIRED HERE-------</font>\n",
    "\n",
    "This is done in QGIS. You just to have highlight the boxes you want to work with and then you \n",
    "1. Click right with your mouse on your shapefile\n",
    "2. Export\n",
    "3. Save Selected Features As\n",
    "4. Write filename"
   ]
  },
  {
   "cell_type": "markdown",
   "id": "1724b67e-1db1-48f2-9d9d-78dd6e449221",
   "metadata": {},
   "source": [
    "## 3. Clipping boulders intersecting selection rectangular grid(s) / graticules\n",
    "\n",
    "After a bit of thinking, I would like to:\n",
    "1. clip the boulders for the selected graticule(s)\n",
    "2. filter out boulders that have an area below the min_area_threshold.\n",
    "3. explode MultiPolygons (and only keep the one above the min_area_threshold)"
   ]
  },
  {
   "cell_type": "markdown",
   "id": "a9804f75-556b-4161-88c3-664b0b707532",
   "metadata": {},
   "source": [
    "### a) Example for a single image"
   ]
  },
  {
   "cell_type": "code",
   "execution_count": 4,
   "id": "eb17c959-c66c-49c7-9d90-370878d456be",
   "metadata": {},
   "outputs": [],
   "source": [
    "global_tiles_pickle = Path('/home/nilscp/tmp/preprocessing/shapefiles/Censorinus-M139694087LE-v001-global-tiles.pkl')\n",
    "selection_tiles_shapefile = global_tiles_pickle.with_name('Censorinus-M139694087LE-v001-selection-tiles.shp')\n",
    "out_selection_tiles_pickle = global_tiles_pickle.with_name('Censorinus-M139694087LE-v001-selection-tiles.pkl')\n",
    "boulders_shapefile = '/home/nilscp/BOULDERING/qgis/moon/censorinus/shapefiles/boulder_population/krishna-kumar/shp/M139694087LE-nils.shp'\n",
    "out_selection_boulders_shapefile = global_tiles_pickle.with_name('Censorinus-M139694087LE-v001-selection-boulders.shp')\n",
    "in_raster = Path(\"/home/nilscp/BOULDERING/qgis/moon/censorinus/NAC/reference-for-coreg/M139694087LE.tif\")\n",
    "res = raster.get_raster_resolution(in_raster)[0]\n",
    "min_area_threshold = (res * 6.0)**2.0 # we do not take boulders smaller than about 6 times the resolution (assuming a square)"
   ]
  },
  {
   "cell_type": "code",
   "execution_count": 5,
   "id": "22ebc8bf-987c-4148-bacc-eda9ba3e9002",
   "metadata": {},
   "outputs": [
    {
     "name": "stderr",
     "output_type": "stream",
     "text": [
      "100%|██████████| 161/161 [00:12<00:00, 12.44it/s]\n"
     ]
    },
    {
     "name": "stdout",
     "output_type": "stream",
     "text": [
      "1 MultiPolygon(s) was/were removed\n",
      "2 exploded MultiPolygon(s) was/were added\n",
      "shapefile /home/nilscp/tmp/preprocessing/shapefiles/Censorinus-M139694087LE-v001-selection-boulders.shp has been generated\n",
      "shapefile /home/nilscp/tmp/preprocessing/shapefiles/Censorinus-M139694087LE-v001-selection-tiles.shp has been overwritten (graticules/rectangle grids with no boulder occurences are deleted)\n"
     ]
    }
   ],
   "source": [
    "gdf_boulders, gdf_selection_tiles_updated, df_selection_tiles = create_annotations.clip_boulders(boulders_shapefile, selection_tiles_shapefile, min_area_threshold, global_tiles_pickle, out_selection_tiles_pickle, out_selection_boulders_shapefile)"
   ]
  },
  {
   "cell_type": "code",
   "execution_count": 6,
   "id": "a31a08bc-b2b1-4c4a-b139-d45efc40f6ea",
   "metadata": {},
   "outputs": [
    {
     "data": {
      "text/plain": [
       "((6038, 7), (161, 4), (161, 9))"
      ]
     },
     "execution_count": 6,
     "metadata": {},
     "output_type": "execute_result"
    }
   ],
   "source": [
    "gdf_boulders.shape, gdf_selection_tiles_updated.shape, df_selection_tiles.shape"
   ]
  },
  {
   "cell_type": "markdown",
   "id": "9b85c7fc-c494-4de2-b047-85778347b468",
   "metadata": {},
   "source": [
    "### b) Example for multiple images\n",
    "Here, I have just made two different selection of graticules for the same image."
   ]
  },
  {
   "cell_type": "code",
   "execution_count": 7,
   "id": "f2a17d7c-57e9-4dec-9a03-eda3d90034bf",
   "metadata": {},
   "outputs": [],
   "source": [
    "global_tiles_pickle = Path('/home/nilscp/tmp/preprocessing/shapefiles/Censorinus-M139694087LE-v001-global-tiles.pkl')\n",
    "selection_tiles_shapefile = global_tiles_pickle.with_name('Censorinus-M139694087LE-v001-selection2-tiles.shp')\n",
    "out_selection_tiles_pickle = global_tiles_pickle.with_name('Censorinus-M139694087LE-v001-selection2-tiles.pkl')\n",
    "boulders_shapefile = '/home/nilscp/BOULDERING/qgis/moon/censorinus/shapefiles/boulder_population/krishna-kumar/shp/M139694087LE-nils.shp'\n",
    "out_selection_boulders_shapefile = global_tiles_pickle.with_name('Censorinus-M139694087LE-v001-selection2-boulders.shp')\n",
    "in_raster = Path(\"/home/nilscp/BOULDERING/qgis/moon/censorinus/NAC/reference-for-coreg/M139694087LE.tif\")\n",
    "res = raster.get_raster_resolution(in_raster)[0]\n",
    "min_area_threshold = (res * 6.0)**2.0 # we do not take boulders smaller than about 6 times the resolution (assuming a square)"
   ]
  },
  {
   "cell_type": "code",
   "execution_count": 8,
   "id": "b565d202-ac36-4829-9ba7-964d9fa9e005",
   "metadata": {},
   "outputs": [
    {
     "name": "stderr",
     "output_type": "stream",
     "text": [
      "100%|██████████| 128/128 [00:10<00:00, 12.11it/s]\n"
     ]
    },
    {
     "name": "stdout",
     "output_type": "stream",
     "text": [
      "shapefile /home/nilscp/tmp/preprocessing/shapefiles/Censorinus-M139694087LE-v001-selection2-boulders.shp has been generated\n",
      "shapefile /home/nilscp/tmp/preprocessing/shapefiles/Censorinus-M139694087LE-v001-selection2-tiles.shp has been overwritten (graticules/rectangle grids with no boulder occurences are deleted)\n"
     ]
    }
   ],
   "source": [
    "gdf_boulders2, gdf_selection_tiles_updated2, df_selection_tiles2 = create_annotations.clip_boulders(boulders_shapefile, selection_tiles_shapefile, min_area_threshold, global_tiles_pickle, out_selection_tiles_pickle, out_selection_boulders_shapefile)"
   ]
  },
  {
   "cell_type": "markdown",
   "id": "251dac2b-27da-4f2c-9105-f9a9394bc535",
   "metadata": {},
   "source": [
    "## 4. Merging if working with multiple images (most likely)"
   ]
  },
  {
   "cell_type": "code",
   "execution_count": 9,
   "id": "a8afdf5c-09bf-4631-aac6-969abd91ceb9",
   "metadata": {},
   "outputs": [],
   "source": [
    "frames = [gdf_boulders, gdf_boulders2]\n",
    "df_boulders_all_images = create_annotations.merge_dataframes(frames)\n",
    "\n",
    "frames = [gdf_selection_tiles_updated, gdf_selection_tiles_updated2]\n",
    "gdf_selection_tiles_all_images = create_annotations.merge_dataframes(frames)\n",
    "\n",
    "frames = [df_selection_tiles, df_selection_tiles2]\n",
    "df_selection_tiles_all_images = create_annotations.merge_dataframes(frames)"
   ]
  },
  {
   "cell_type": "code",
   "execution_count": 10,
   "id": "51c97c35-9527-48ee-8fb7-8c55450e5bc9",
   "metadata": {},
   "outputs": [
    {
     "data": {
      "text/plain": [
       "True"
      ]
     },
     "execution_count": 10,
     "metadata": {},
     "output_type": "execute_result"
    }
   ],
   "source": [
    "gdf_boulders.shape[0] + gdf_boulders2.shape[0] == df_boulders_all_images.shape[0] # ok it is working correctly"
   ]
  },
  {
   "cell_type": "code",
   "execution_count": 11,
   "id": "a06e544a-b12f-48f7-8153-e6dcbf27dcf4",
   "metadata": {},
   "outputs": [],
   "source": [
    "split = (0.6, 0.2, 0.2)"
   ]
  },
  {
   "cell_type": "code",
   "execution_count": 12,
   "id": "508608f2-6c34-4e47-8f08-081e26b1412a",
   "metadata": {},
   "outputs": [],
   "source": [
    "out_shapefile = global_tiles_pickle.with_name('Censorinus-M139694087LE-v001-selection-tiles-with-status.shp')"
   ]
  },
  {
   "cell_type": "code",
   "execution_count": 13,
   "id": "8d2f95d0-c08c-40e9-8c1c-46c4b5cd30a8",
   "metadata": {},
   "outputs": [
    {
     "name": "stdout",
     "output_type": "stream",
     "text": [
      "shapefile /home/nilscp/tmp/preprocessing/shapefiles/Censorinus-M139694087LE-v001-selection-tiles-with-status.shp has been generated\n"
     ]
    },
    {
     "name": "stderr",
     "output_type": "stream",
     "text": [
      "/home/nilscp/.pyenv/versions/3.8.0/envs/computer-vision/lib/python3.8/site-packages/pandas/core/indexing.py:1732: SettingWithCopyWarning: \n",
      "A value is trying to be set on a copy of a slice from a DataFrame\n",
      "\n",
      "See the caveats in the documentation: https://pandas.pydata.org/pandas-docs/stable/user_guide/indexing.html#returning-a-view-versus-a-copy\n",
      "  self._setitem_single_block(indexer, value, name)\n"
     ]
    }
   ],
   "source": [
    "(df_selection_tiles_all_images, gdf_selection_tiles_all_images) = create_annotations.split_global(df_selection_tiles_all_images, gdf_selection_tiles_all_images, split, out_shapefile)"
   ]
  },
  {
   "cell_type": "markdown",
   "id": "3dc4c81d-9121-41d4-949d-aa7d7ed6e359",
   "metadata": {},
   "source": [
    "#### Dataset columns was added"
   ]
  },
  {
   "cell_type": "code",
   "execution_count": 14,
   "id": "4df5b23d-5024-4cb2-b9df-cb4aa0954acb",
   "metadata": {},
   "outputs": [
    {
     "data": {
      "text/plain": [
       "Index(['NAC_id', 'tile_id', 'file_name', 'raster_ap', 'raster_rp', 'rwindows',\n",
       "       'transform', 'bbox_im', 'coord_sys', 'dataset'],\n",
       "      dtype='object')"
      ]
     },
     "execution_count": 14,
     "metadata": {},
     "output_type": "execute_result"
    }
   ],
   "source": [
    "df_selection_tiles_all_images.columns"
   ]
  },
  {
   "cell_type": "markdown",
   "id": "a6a9ec16-c9ac-449f-81e1-c4a82dca3828",
   "metadata": {},
   "source": [
    "### 5. Tiling of images (tif, 1- and 3-band pngs)"
   ]
  },
  {
   "cell_type": "code",
   "execution_count": 15,
   "id": "74b2c922-d3bc-45b6-9c98-939660220236",
   "metadata": {},
   "outputs": [],
   "source": [
    "dataset_directory = Path(\"/home/nilscp/tmp/preprocessing/preprocessing\")"
   ]
  },
  {
   "cell_type": "code",
   "execution_count": 16,
   "id": "874a7e71-af8c-44f0-baaf-bcdf266b1a2c",
   "metadata": {},
   "outputs": [
    {
     "name": "stderr",
     "output_type": "stream",
     "text": [
      "100%|██████████| 289/289 [00:57<00:00,  5.07it/s]\n"
     ]
    }
   ],
   "source": [
    "create_annotations.tiling_raster_from_dataframe(df_selection_tiles_all_images, dataset_directory, block_width, block_height)"
   ]
  },
  {
   "cell_type": "markdown",
   "id": "485f8601-e828-49af-b928-887b227ef579",
   "metadata": {},
   "source": [
    "#### Let's check if the 60%, 20%, 20% distribution has been respected"
   ]
  },
  {
   "cell_type": "code",
   "execution_count": 16,
   "id": "19ff4b79-fc06-4d6e-9674-7c1599504ca7",
   "metadata": {},
   "outputs": [
    {
     "data": {
      "text/plain": [
       "(0.5986159169550173, 0.20069204152249134, 0.20069204152249134)"
      ]
     },
     "execution_count": 16,
     "metadata": {},
     "output_type": "execute_result"
    }
   ],
   "source": [
    "fo = [\"train\", \"validation\", \"test\"]\n",
    "p = []\n",
    "\n",
    "for f in fo:\n",
    "    p.append(len(list((dataset_directory / f / \"images\").rglob(\"*image.png\"))))\n",
    "    \n",
    "p = np.array(p)\n",
    "p[0] / p.sum(), p[1] / p.sum(), p[2] / p.sum()"
   ]
  },
  {
   "cell_type": "markdown",
   "id": "8c131107-3d79-4fc8-b976-3a24d78551b4",
   "metadata": {},
   "source": [
    "## 6. Selecting train, validation and test datasets"
   ]
  },
  {
   "cell_type": "code",
   "execution_count": 17,
   "id": "b89b6e10-58ca-4337-9666-eac046b6adc4",
   "metadata": {},
   "outputs": [
    {
     "name": "stderr",
     "output_type": "stream",
     "text": [
      "/home/nilscp/.pyenv/versions/3.8.0/envs/computer-vision/lib/python3.8/site-packages/geopandas/geodataframe.py:1322: SettingWithCopyWarning: \n",
      "A value is trying to be set on a copy of a slice from a DataFrame.\n",
      "Try using .loc[row_indexer,col_indexer] = value instead\n",
      "\n",
      "See the caveats in the documentation: https://pandas.pydata.org/pandas-docs/stable/user_guide/indexing.html#returning-a-view-versus-a-copy\n",
      "  super(GeoDataFrame, self).__setitem__(key, value)\n"
     ]
    }
   ],
   "source": [
    "(df_selection_boulders_train, df_selection_boulders_validation, df_selection_boulders_test) = create_annotations.selection_boulders(df_boulders_all_images, df_selection_tiles_all_images)"
   ]
  },
  {
   "cell_type": "code",
   "execution_count": 18,
   "id": "b48de0bc-57a9-4f2a-9ba5-64507281880a",
   "metadata": {},
   "outputs": [
    {
     "data": {
      "text/plain": [
       "((8189, 8), (2122, 8), (2343, 8))"
      ]
     },
     "execution_count": 18,
     "metadata": {},
     "output_type": "execute_result"
    }
   ],
   "source": [
    "df_selection_boulders_train.shape, df_selection_boulders_validation.shape, df_selection_boulders_test.shape"
   ]
  },
  {
   "cell_type": "markdown",
   "id": "6e6b451c-b0e1-4328-a006-5c5e2f122258",
   "metadata": {},
   "source": [
    "## 7. Generate image annotations (as a dataframe)"
   ]
  },
  {
   "cell_type": "code",
   "execution_count": 19,
   "id": "9a977f0b-b7f8-46c2-bb16-108a494f132d",
   "metadata": {},
   "outputs": [],
   "source": [
    "train_image_annotations_pickle = global_tiles_pickle.with_name('Censorinus-M139694087LE-v001-train-image-annotations.pkl')\n",
    "validation_image_annotations_pickle = global_tiles_pickle.with_name('Censorinus-M139694087LE-v001-validation-image-annotations.pkl')\n",
    "test_image_annotations_pickle = global_tiles_pickle.with_name('Censorinus-M139694087LE-v001-test-image-annotations.pkl')"
   ]
  },
  {
   "cell_type": "code",
   "execution_count": 20,
   "id": "d5d7b99e-f739-4f34-8fe1-972d36636a19",
   "metadata": {},
   "outputs": [
    {
     "data": {
      "text/html": [
       "<div>\n",
       "<style scoped>\n",
       "    .dataframe tbody tr th:only-of-type {\n",
       "        vertical-align: middle;\n",
       "    }\n",
       "\n",
       "    .dataframe tbody tr th {\n",
       "        vertical-align: top;\n",
       "    }\n",
       "\n",
       "    .dataframe thead th {\n",
       "        text-align: right;\n",
       "    }\n",
       "</style>\n",
       "<table border=\"1\" class=\"dataframe\">\n",
       "  <thead>\n",
       "    <tr style=\"text-align: right;\">\n",
       "      <th></th>\n",
       "      <th>NAC_id</th>\n",
       "      <th>tile_id</th>\n",
       "      <th>file_name</th>\n",
       "      <th>raster_ap</th>\n",
       "      <th>raster_rp</th>\n",
       "      <th>rwindows</th>\n",
       "      <th>transform</th>\n",
       "      <th>bbox_im</th>\n",
       "      <th>coord_sys</th>\n",
       "      <th>dataset</th>\n",
       "    </tr>\n",
       "  </thead>\n",
       "  <tbody>\n",
       "    <tr>\n",
       "      <th>0</th>\n",
       "      <td>M139694087LE</td>\n",
       "      <td>30</td>\n",
       "      <td>M139694087LE_0030_image.png</td>\n",
       "      <td>/home/nilscp/BOULDERING/qgis/moon/censorinus/N...</td>\n",
       "      <td>M139694087LE.tif</td>\n",
       "      <td>[0, 15000, 500, 500]</td>\n",
       "      <td>[0.48357597846618, 0.0, -1227.3158333472, 0.0,...</td>\n",
       "      <td>(-1227.3158333472, -7474.150323173278, -985.52...</td>\n",
       "      <td>PROJCS[\"EQUIRECTANGULAR MOON\",GEOGCS[\"GCS_MOON...</td>\n",
       "      <td>train</td>\n",
       "    </tr>\n",
       "    <tr>\n",
       "      <th>1</th>\n",
       "      <td>M139694087LE</td>\n",
       "      <td>31</td>\n",
       "      <td>M139694087LE_0031_image.png</td>\n",
       "      <td>/home/nilscp/BOULDERING/qgis/moon/censorinus/N...</td>\n",
       "      <td>M139694087LE.tif</td>\n",
       "      <td>[0, 15500, 500, 500]</td>\n",
       "      <td>[0.48357597846618, 0.0, -1227.3158333472, 0.0,...</td>\n",
       "      <td>(-1227.3158333472, -7715.938312406368, -985.52...</td>\n",
       "      <td>PROJCS[\"EQUIRECTANGULAR MOON\",GEOGCS[\"GCS_MOON...</td>\n",
       "      <td>test</td>\n",
       "    </tr>\n",
       "    <tr>\n",
       "      <th>2</th>\n",
       "      <td>M139694087LE</td>\n",
       "      <td>34</td>\n",
       "      <td>M139694087LE_0034_image.png</td>\n",
       "      <td>/home/nilscp/BOULDERING/qgis/moon/censorinus/N...</td>\n",
       "      <td>M139694087LE.tif</td>\n",
       "      <td>[0, 17000, 500, 500]</td>\n",
       "      <td>[0.48357597846618, 0.0, -1227.3158333472, 0.0,...</td>\n",
       "      <td>(-1227.3158333472, -8441.302280105638, -985.52...</td>\n",
       "      <td>PROJCS[\"EQUIRECTANGULAR MOON\",GEOGCS[\"GCS_MOON...</td>\n",
       "      <td>test</td>\n",
       "    </tr>\n",
       "    <tr>\n",
       "      <th>3</th>\n",
       "      <td>M139694087LE</td>\n",
       "      <td>36</td>\n",
       "      <td>M139694087LE_0036_image.png</td>\n",
       "      <td>/home/nilscp/BOULDERING/qgis/moon/censorinus/N...</td>\n",
       "      <td>M139694087LE.tif</td>\n",
       "      <td>[0, 18000, 500, 500]</td>\n",
       "      <td>[0.48357597846618, 0.0, -1227.3158333472, 0.0,...</td>\n",
       "      <td>(-1227.3158333472, -8924.878258571818, -985.52...</td>\n",
       "      <td>PROJCS[\"EQUIRECTANGULAR MOON\",GEOGCS[\"GCS_MOON...</td>\n",
       "      <td>train</td>\n",
       "    </tr>\n",
       "    <tr>\n",
       "      <th>4</th>\n",
       "      <td>M139694087LE</td>\n",
       "      <td>37</td>\n",
       "      <td>M139694087LE_0037_image.png</td>\n",
       "      <td>/home/nilscp/BOULDERING/qgis/moon/censorinus/N...</td>\n",
       "      <td>M139694087LE.tif</td>\n",
       "      <td>[0, 18500, 500, 500]</td>\n",
       "      <td>[0.48357597846618, 0.0, -1227.3158333472, 0.0,...</td>\n",
       "      <td>(-1227.3158333472, -9166.666247804907, -985.52...</td>\n",
       "      <td>PROJCS[\"EQUIRECTANGULAR MOON\",GEOGCS[\"GCS_MOON...</td>\n",
       "      <td>test</td>\n",
       "    </tr>\n",
       "    <tr>\n",
       "      <th>...</th>\n",
       "      <td>...</td>\n",
       "      <td>...</td>\n",
       "      <td>...</td>\n",
       "      <td>...</td>\n",
       "      <td>...</td>\n",
       "      <td>...</td>\n",
       "      <td>...</td>\n",
       "      <td>...</td>\n",
       "      <td>...</td>\n",
       "      <td>...</td>\n",
       "    </tr>\n",
       "    <tr>\n",
       "      <th>284</th>\n",
       "      <td>M139694087LE</td>\n",
       "      <td>1240</td>\n",
       "      <td>M139694087LE_1240_image.png</td>\n",
       "      <td>/home/nilscp/BOULDERING/qgis/moon/censorinus/N...</td>\n",
       "      <td>M139694087LE.tif</td>\n",
       "      <td>[5000, 25000, 500, 500]</td>\n",
       "      <td>[0.48357597846618, 0.0, 1190.5640589837, 0.0, ...</td>\n",
       "      <td>(1190.5640589837, -12309.910107835078, 1432.35...</td>\n",
       "      <td>PROJCS[\"EQUIRECTANGULAR MOON\",GEOGCS[\"GCS_MOON...</td>\n",
       "      <td>validation</td>\n",
       "    </tr>\n",
       "    <tr>\n",
       "      <th>285</th>\n",
       "      <td>M139694087LE</td>\n",
       "      <td>1241</td>\n",
       "      <td>M139694087LE_1241_image.png</td>\n",
       "      <td>/home/nilscp/BOULDERING/qgis/moon/censorinus/N...</td>\n",
       "      <td>M139694087LE.tif</td>\n",
       "      <td>[5000, 25500, 500, 500]</td>\n",
       "      <td>[0.48357597846618, 0.0, 1190.5640589837, 0.0, ...</td>\n",
       "      <td>(1190.5640589837, -12551.698097068167, 1432.35...</td>\n",
       "      <td>PROJCS[\"EQUIRECTANGULAR MOON\",GEOGCS[\"GCS_MOON...</td>\n",
       "      <td>train</td>\n",
       "    </tr>\n",
       "    <tr>\n",
       "      <th>286</th>\n",
       "      <td>M139694087LE</td>\n",
       "      <td>1242</td>\n",
       "      <td>M139694087LE_1242_image.png</td>\n",
       "      <td>/home/nilscp/BOULDERING/qgis/moon/censorinus/N...</td>\n",
       "      <td>M139694087LE.tif</td>\n",
       "      <td>[5000, 26000, 500, 500]</td>\n",
       "      <td>[0.48357597846618, 0.0, 1190.5640589837, 0.0, ...</td>\n",
       "      <td>(1190.5640589837, -12793.486086301258, 1432.35...</td>\n",
       "      <td>PROJCS[\"EQUIRECTANGULAR MOON\",GEOGCS[\"GCS_MOON...</td>\n",
       "      <td>validation</td>\n",
       "    </tr>\n",
       "    <tr>\n",
       "      <th>287</th>\n",
       "      <td>M139694087LE</td>\n",
       "      <td>1244</td>\n",
       "      <td>M139694087LE_1244_image.png</td>\n",
       "      <td>/home/nilscp/BOULDERING/qgis/moon/censorinus/N...</td>\n",
       "      <td>M139694087LE.tif</td>\n",
       "      <td>[5000, 27000, 500, 500]</td>\n",
       "      <td>[0.48357597846618, 0.0, 1190.5640589837, 0.0, ...</td>\n",
       "      <td>(1190.5640589837, -13277.062064767439, 1432.35...</td>\n",
       "      <td>PROJCS[\"EQUIRECTANGULAR MOON\",GEOGCS[\"GCS_MOON...</td>\n",
       "      <td>train</td>\n",
       "    </tr>\n",
       "    <tr>\n",
       "      <th>288</th>\n",
       "      <td>M139694087LE</td>\n",
       "      <td>1245</td>\n",
       "      <td>M139694087LE_1245_image.png</td>\n",
       "      <td>/home/nilscp/BOULDERING/qgis/moon/censorinus/N...</td>\n",
       "      <td>M139694087LE.tif</td>\n",
       "      <td>[5000, 27500, 500, 500]</td>\n",
       "      <td>[0.48357597846618, 0.0, 1190.5640589837, 0.0, ...</td>\n",
       "      <td>(1190.5640589837, -13518.850054000528, 1432.35...</td>\n",
       "      <td>PROJCS[\"EQUIRECTANGULAR MOON\",GEOGCS[\"GCS_MOON...</td>\n",
       "      <td>test</td>\n",
       "    </tr>\n",
       "  </tbody>\n",
       "</table>\n",
       "<p>289 rows × 10 columns</p>\n",
       "</div>"
      ],
      "text/plain": [
       "           NAC_id  tile_id                    file_name  \\\n",
       "0    M139694087LE       30  M139694087LE_0030_image.png   \n",
       "1    M139694087LE       31  M139694087LE_0031_image.png   \n",
       "2    M139694087LE       34  M139694087LE_0034_image.png   \n",
       "3    M139694087LE       36  M139694087LE_0036_image.png   \n",
       "4    M139694087LE       37  M139694087LE_0037_image.png   \n",
       "..            ...      ...                          ...   \n",
       "284  M139694087LE     1240  M139694087LE_1240_image.png   \n",
       "285  M139694087LE     1241  M139694087LE_1241_image.png   \n",
       "286  M139694087LE     1242  M139694087LE_1242_image.png   \n",
       "287  M139694087LE     1244  M139694087LE_1244_image.png   \n",
       "288  M139694087LE     1245  M139694087LE_1245_image.png   \n",
       "\n",
       "                                             raster_ap         raster_rp  \\\n",
       "0    /home/nilscp/BOULDERING/qgis/moon/censorinus/N...  M139694087LE.tif   \n",
       "1    /home/nilscp/BOULDERING/qgis/moon/censorinus/N...  M139694087LE.tif   \n",
       "2    /home/nilscp/BOULDERING/qgis/moon/censorinus/N...  M139694087LE.tif   \n",
       "3    /home/nilscp/BOULDERING/qgis/moon/censorinus/N...  M139694087LE.tif   \n",
       "4    /home/nilscp/BOULDERING/qgis/moon/censorinus/N...  M139694087LE.tif   \n",
       "..                                                 ...               ...   \n",
       "284  /home/nilscp/BOULDERING/qgis/moon/censorinus/N...  M139694087LE.tif   \n",
       "285  /home/nilscp/BOULDERING/qgis/moon/censorinus/N...  M139694087LE.tif   \n",
       "286  /home/nilscp/BOULDERING/qgis/moon/censorinus/N...  M139694087LE.tif   \n",
       "287  /home/nilscp/BOULDERING/qgis/moon/censorinus/N...  M139694087LE.tif   \n",
       "288  /home/nilscp/BOULDERING/qgis/moon/censorinus/N...  M139694087LE.tif   \n",
       "\n",
       "                    rwindows  \\\n",
       "0       [0, 15000, 500, 500]   \n",
       "1       [0, 15500, 500, 500]   \n",
       "2       [0, 17000, 500, 500]   \n",
       "3       [0, 18000, 500, 500]   \n",
       "4       [0, 18500, 500, 500]   \n",
       "..                       ...   \n",
       "284  [5000, 25000, 500, 500]   \n",
       "285  [5000, 25500, 500, 500]   \n",
       "286  [5000, 26000, 500, 500]   \n",
       "287  [5000, 27000, 500, 500]   \n",
       "288  [5000, 27500, 500, 500]   \n",
       "\n",
       "                                             transform  \\\n",
       "0    [0.48357597846618, 0.0, -1227.3158333472, 0.0,...   \n",
       "1    [0.48357597846618, 0.0, -1227.3158333472, 0.0,...   \n",
       "2    [0.48357597846618, 0.0, -1227.3158333472, 0.0,...   \n",
       "3    [0.48357597846618, 0.0, -1227.3158333472, 0.0,...   \n",
       "4    [0.48357597846618, 0.0, -1227.3158333472, 0.0,...   \n",
       "..                                                 ...   \n",
       "284  [0.48357597846618, 0.0, 1190.5640589837, 0.0, ...   \n",
       "285  [0.48357597846618, 0.0, 1190.5640589837, 0.0, ...   \n",
       "286  [0.48357597846618, 0.0, 1190.5640589837, 0.0, ...   \n",
       "287  [0.48357597846618, 0.0, 1190.5640589837, 0.0, ...   \n",
       "288  [0.48357597846618, 0.0, 1190.5640589837, 0.0, ...   \n",
       "\n",
       "                                               bbox_im  \\\n",
       "0    (-1227.3158333472, -7474.150323173278, -985.52...   \n",
       "1    (-1227.3158333472, -7715.938312406368, -985.52...   \n",
       "2    (-1227.3158333472, -8441.302280105638, -985.52...   \n",
       "3    (-1227.3158333472, -8924.878258571818, -985.52...   \n",
       "4    (-1227.3158333472, -9166.666247804907, -985.52...   \n",
       "..                                                 ...   \n",
       "284  (1190.5640589837, -12309.910107835078, 1432.35...   \n",
       "285  (1190.5640589837, -12551.698097068167, 1432.35...   \n",
       "286  (1190.5640589837, -12793.486086301258, 1432.35...   \n",
       "287  (1190.5640589837, -13277.062064767439, 1432.35...   \n",
       "288  (1190.5640589837, -13518.850054000528, 1432.35...   \n",
       "\n",
       "                                             coord_sys     dataset  \n",
       "0    PROJCS[\"EQUIRECTANGULAR MOON\",GEOGCS[\"GCS_MOON...       train  \n",
       "1    PROJCS[\"EQUIRECTANGULAR MOON\",GEOGCS[\"GCS_MOON...        test  \n",
       "2    PROJCS[\"EQUIRECTANGULAR MOON\",GEOGCS[\"GCS_MOON...        test  \n",
       "3    PROJCS[\"EQUIRECTANGULAR MOON\",GEOGCS[\"GCS_MOON...       train  \n",
       "4    PROJCS[\"EQUIRECTANGULAR MOON\",GEOGCS[\"GCS_MOON...        test  \n",
       "..                                                 ...         ...  \n",
       "284  PROJCS[\"EQUIRECTANGULAR MOON\",GEOGCS[\"GCS_MOON...  validation  \n",
       "285  PROJCS[\"EQUIRECTANGULAR MOON\",GEOGCS[\"GCS_MOON...       train  \n",
       "286  PROJCS[\"EQUIRECTANGULAR MOON\",GEOGCS[\"GCS_MOON...  validation  \n",
       "287  PROJCS[\"EQUIRECTANGULAR MOON\",GEOGCS[\"GCS_MOON...       train  \n",
       "288  PROJCS[\"EQUIRECTANGULAR MOON\",GEOGCS[\"GCS_MOON...        test  \n",
       "\n",
       "[289 rows x 10 columns]"
      ]
     },
     "execution_count": 20,
     "metadata": {},
     "output_type": "execute_result"
    }
   ],
   "source": [
    "df_selection_tiles_all_images"
   ]
  },
  {
   "cell_type": "code",
   "execution_count": 21,
   "id": "230cc3e8-3396-474f-8e9b-0e8df2a0e043",
   "metadata": {},
   "outputs": [
    {
     "name": "stdout",
     "output_type": "stream",
     "text": [
      "pickle /home/nilscp/tmp/preprocessing/shapefiles/Censorinus-M139694087LE-v001-train-image-annotations.pkl has been generated\n",
      "pickle /home/nilscp/tmp/preprocessing/shapefiles/Censorinus-M139694087LE-v001-validation-image-annotations.pkl has been generated\n",
      "pickle /home/nilscp/tmp/preprocessing/shapefiles/Censorinus-M139694087LE-v001-test-image-annotations.pkl has been generated\n"
     ]
    }
   ],
   "source": [
    "image_annotations_train_df = create_annotations.image(df_selection_tiles_all_images, \"train\", dataset_directory, block_width, block_height, train_image_annotations_pickle)\n",
    "image_annotations_validation_df = create_annotations.image(df_selection_tiles_all_images, \"validation\", dataset_directory, block_width, block_height, validation_image_annotations_pickle)\n",
    "image_annotations_test_df = create_annotations.image(df_selection_tiles_all_images, \"test\", dataset_directory, block_width, block_height, test_image_annotations_pickle)"
   ]
  },
  {
   "cell_type": "code",
   "execution_count": 22,
   "id": "7de97506-0f80-45fb-8bc3-b1958f1e0ce1",
   "metadata": {},
   "outputs": [
    {
     "data": {
      "text/html": [
       "<div>\n",
       "<style scoped>\n",
       "    .dataframe tbody tr th:only-of-type {\n",
       "        vertical-align: middle;\n",
       "    }\n",
       "\n",
       "    .dataframe tbody tr th {\n",
       "        vertical-align: top;\n",
       "    }\n",
       "\n",
       "    .dataframe thead th {\n",
       "        text-align: right;\n",
       "    }\n",
       "</style>\n",
       "<table border=\"1\" class=\"dataframe\">\n",
       "  <thead>\n",
       "    <tr style=\"text-align: right;\">\n",
       "      <th></th>\n",
       "      <th>NAC_id</th>\n",
       "      <th>tile_id</th>\n",
       "      <th>file_name</th>\n",
       "      <th>raster_ap</th>\n",
       "      <th>raster_rp</th>\n",
       "      <th>rwindows</th>\n",
       "      <th>transform</th>\n",
       "      <th>bbox_im</th>\n",
       "      <th>coord_sys</th>\n",
       "      <th>dataset</th>\n",
       "      <th>id</th>\n",
       "      <th>height</th>\n",
       "      <th>width</th>\n",
       "      <th>file_name_ap</th>\n",
       "    </tr>\n",
       "  </thead>\n",
       "  <tbody>\n",
       "    <tr>\n",
       "      <th>0</th>\n",
       "      <td>M139694087LE</td>\n",
       "      <td>985</td>\n",
       "      <td>M139694087LE_0985_image.png</td>\n",
       "      <td>/home/nilscp/BOULDERING/qgis/moon/censorinus/N...</td>\n",
       "      <td>M139694087LE.tif</td>\n",
       "      <td>[4000, 16500, 500, 500]</td>\n",
       "      <td>[0.48357597846618, 0.0, 706.9880805175201, 0.0...</td>\n",
       "      <td>(706.9880805175201, -8199.514290872548, 948.77...</td>\n",
       "      <td>PROJCS[\"EQUIRECTANGULAR MOON\",GEOGCS[\"GCS_MOON...</td>\n",
       "      <td>train</td>\n",
       "      <td>0</td>\n",
       "      <td>500</td>\n",
       "      <td>500</td>\n",
       "      <td>/home/nilscp/tmp/preprocessing/preprocessing/t...</td>\n",
       "    </tr>\n",
       "    <tr>\n",
       "      <th>1</th>\n",
       "      <td>M139694087LE</td>\n",
       "      <td>881</td>\n",
       "      <td>M139694087LE_0881_image.png</td>\n",
       "      <td>/home/nilscp/BOULDERING/qgis/moon/censorinus/N...</td>\n",
       "      <td>M139694087LE.tif</td>\n",
       "      <td>[3500, 24000, 500, 500]</td>\n",
       "      <td>[0.48357597846618, 0.0, 465.2000912844301, 0.0...</td>\n",
       "      <td>(465.2000912844301, -11826.334129368897, 706.9...</td>\n",
       "      <td>PROJCS[\"EQUIRECTANGULAR MOON\",GEOGCS[\"GCS_MOON...</td>\n",
       "      <td>train</td>\n",
       "      <td>1</td>\n",
       "      <td>500</td>\n",
       "      <td>500</td>\n",
       "      <td>/home/nilscp/tmp/preprocessing/preprocessing/t...</td>\n",
       "    </tr>\n",
       "  </tbody>\n",
       "</table>\n",
       "</div>"
      ],
      "text/plain": [
       "         NAC_id  tile_id                    file_name  \\\n",
       "0  M139694087LE      985  M139694087LE_0985_image.png   \n",
       "1  M139694087LE      881  M139694087LE_0881_image.png   \n",
       "\n",
       "                                           raster_ap         raster_rp  \\\n",
       "0  /home/nilscp/BOULDERING/qgis/moon/censorinus/N...  M139694087LE.tif   \n",
       "1  /home/nilscp/BOULDERING/qgis/moon/censorinus/N...  M139694087LE.tif   \n",
       "\n",
       "                  rwindows                                          transform  \\\n",
       "0  [4000, 16500, 500, 500]  [0.48357597846618, 0.0, 706.9880805175201, 0.0...   \n",
       "1  [3500, 24000, 500, 500]  [0.48357597846618, 0.0, 465.2000912844301, 0.0...   \n",
       "\n",
       "                                             bbox_im  \\\n",
       "0  (706.9880805175201, -8199.514290872548, 948.77...   \n",
       "1  (465.2000912844301, -11826.334129368897, 706.9...   \n",
       "\n",
       "                                           coord_sys dataset  id  height  \\\n",
       "0  PROJCS[\"EQUIRECTANGULAR MOON\",GEOGCS[\"GCS_MOON...   train   0     500   \n",
       "1  PROJCS[\"EQUIRECTANGULAR MOON\",GEOGCS[\"GCS_MOON...   train   1     500   \n",
       "\n",
       "   width                                       file_name_ap  \n",
       "0    500  /home/nilscp/tmp/preprocessing/preprocessing/t...  \n",
       "1    500  /home/nilscp/tmp/preprocessing/preprocessing/t...  "
      ]
     },
     "execution_count": 22,
     "metadata": {},
     "output_type": "execute_result"
    }
   ],
   "source": [
    "image_annotations_train_df.head(2)"
   ]
  },
  {
   "cell_type": "code",
   "execution_count": 23,
   "id": "e8bd0915-52f8-4b20-9650-bb5dbf24689f",
   "metadata": {},
   "outputs": [
    {
     "data": {
      "text/html": [
       "<div>\n",
       "<style scoped>\n",
       "    .dataframe tbody tr th:only-of-type {\n",
       "        vertical-align: middle;\n",
       "    }\n",
       "\n",
       "    .dataframe tbody tr th {\n",
       "        vertical-align: top;\n",
       "    }\n",
       "\n",
       "    .dataframe thead th {\n",
       "        text-align: right;\n",
       "    }\n",
       "</style>\n",
       "<table border=\"1\" class=\"dataframe\">\n",
       "  <thead>\n",
       "    <tr style=\"text-align: right;\">\n",
       "      <th></th>\n",
       "      <th>NAC_id</th>\n",
       "      <th>tile_id</th>\n",
       "      <th>file_name</th>\n",
       "      <th>raster_ap</th>\n",
       "      <th>raster_rp</th>\n",
       "      <th>rwindows</th>\n",
       "      <th>transform</th>\n",
       "      <th>bbox_im</th>\n",
       "      <th>coord_sys</th>\n",
       "      <th>dataset</th>\n",
       "      <th>id</th>\n",
       "      <th>height</th>\n",
       "      <th>width</th>\n",
       "      <th>file_name_ap</th>\n",
       "    </tr>\n",
       "  </thead>\n",
       "  <tbody>\n",
       "    <tr>\n",
       "      <th>0</th>\n",
       "      <td>M139694087LE</td>\n",
       "      <td>529</td>\n",
       "      <td>M139694087LE_0529_image.png</td>\n",
       "      <td>/home/nilscp/BOULDERING/qgis/moon/censorinus/N...</td>\n",
       "      <td>M139694087LE.tif</td>\n",
       "      <td>[2000, 26500, 500, 500]</td>\n",
       "      <td>[0.48357597846618, 0.0, -260.16387641483993, 0...</td>\n",
       "      <td>(-260.16387641483993, -13035.274075534348, -18...</td>\n",
       "      <td>PROJCS[\"EQUIRECTANGULAR MOON\",GEOGCS[\"GCS_MOON...</td>\n",
       "      <td>validation</td>\n",
       "      <td>0</td>\n",
       "      <td>500</td>\n",
       "      <td>500</td>\n",
       "      <td>/home/nilscp/tmp/preprocessing/preprocessing/v...</td>\n",
       "    </tr>\n",
       "    <tr>\n",
       "      <th>1</th>\n",
       "      <td>M139694087LE</td>\n",
       "      <td>156</td>\n",
       "      <td>M139694087LE_0156_image.png</td>\n",
       "      <td>/home/nilscp/BOULDERING/qgis/moon/censorinus/N...</td>\n",
       "      <td>M139694087LE.tif</td>\n",
       "      <td>[500, 18500, 500, 500]</td>\n",
       "      <td>[0.48357597846618, 0.0, -985.5278441141099, 0....</td>\n",
       "      <td>(-985.5278441141099, -9166.666247804907, -743....</td>\n",
       "      <td>PROJCS[\"EQUIRECTANGULAR MOON\",GEOGCS[\"GCS_MOON...</td>\n",
       "      <td>validation</td>\n",
       "      <td>1</td>\n",
       "      <td>500</td>\n",
       "      <td>500</td>\n",
       "      <td>/home/nilscp/tmp/preprocessing/preprocessing/v...</td>\n",
       "    </tr>\n",
       "  </tbody>\n",
       "</table>\n",
       "</div>"
      ],
      "text/plain": [
       "         NAC_id  tile_id                    file_name  \\\n",
       "0  M139694087LE      529  M139694087LE_0529_image.png   \n",
       "1  M139694087LE      156  M139694087LE_0156_image.png   \n",
       "\n",
       "                                           raster_ap         raster_rp  \\\n",
       "0  /home/nilscp/BOULDERING/qgis/moon/censorinus/N...  M139694087LE.tif   \n",
       "1  /home/nilscp/BOULDERING/qgis/moon/censorinus/N...  M139694087LE.tif   \n",
       "\n",
       "                  rwindows                                          transform  \\\n",
       "0  [2000, 26500, 500, 500]  [0.48357597846618, 0.0, -260.16387641483993, 0...   \n",
       "1   [500, 18500, 500, 500]  [0.48357597846618, 0.0, -985.5278441141099, 0....   \n",
       "\n",
       "                                             bbox_im  \\\n",
       "0  (-260.16387641483993, -13035.274075534348, -18...   \n",
       "1  (-985.5278441141099, -9166.666247804907, -743....   \n",
       "\n",
       "                                           coord_sys     dataset  id  height  \\\n",
       "0  PROJCS[\"EQUIRECTANGULAR MOON\",GEOGCS[\"GCS_MOON...  validation   0     500   \n",
       "1  PROJCS[\"EQUIRECTANGULAR MOON\",GEOGCS[\"GCS_MOON...  validation   1     500   \n",
       "\n",
       "   width                                       file_name_ap  \n",
       "0    500  /home/nilscp/tmp/preprocessing/preprocessing/v...  \n",
       "1    500  /home/nilscp/tmp/preprocessing/preprocessing/v...  "
      ]
     },
     "execution_count": 23,
     "metadata": {},
     "output_type": "execute_result"
    }
   ],
   "source": [
    "image_annotations_validation_df.head(2)"
   ]
  },
  {
   "cell_type": "markdown",
   "id": "7d49e2bf-0059-4697-b60b-dcfd1054435f",
   "metadata": {},
   "source": [
    "## 8. Generate boulder segmentation annotations (as a dataframe)"
   ]
  },
  {
   "cell_type": "code",
   "execution_count": 24,
   "id": "7867c2bc-248a-452b-82e9-be9c42d663d0",
   "metadata": {},
   "outputs": [],
   "source": [
    "train_seg_annotations_pickle = global_tiles_pickle.with_name('Censorinus-M139694087LE-v001-train-segmentation-annotations.pkl')\n",
    "validation_seg_annotations_pickle = global_tiles_pickle.with_name('Censorinus-M139694087LE-v001-validation-segmentation-annotations.pkl')\n",
    "test_seg_annotations_pickle = global_tiles_pickle.with_name('Censorinus-M139694087LE-v001-test-segmentation-annotations.pkl')"
   ]
  },
  {
   "cell_type": "code",
   "execution_count": 25,
   "id": "db3e3d0b-41fc-4d28-a6c2-b1030b796833",
   "metadata": {},
   "outputs": [
    {
     "name": "stderr",
     "output_type": "stream",
     "text": [
      "100%|██████████| 8189/8189 [01:00<00:00, 134.94it/s]\n",
      "/home/nilscp/.pyenv/versions/3.8.0/envs/computer-vision/lib/python3.8/site-packages/geopandas/geodataframe.py:1322: SettingWithCopyWarning: \n",
      "A value is trying to be set on a copy of a slice from a DataFrame.\n",
      "Try using .loc[row_indexer,col_indexer] = value instead\n",
      "\n",
      "See the caveats in the documentation: https://pandas.pydata.org/pandas-docs/stable/user_guide/indexing.html#returning-a-view-versus-a-copy\n",
      "  super(GeoDataFrame, self).__setitem__(key, value)\n",
      "/home/nilscp/GIT/MLtools/create_annotations.py:382: UserWarning: Column names longer than 10 characters will be truncated when saved to ESRI Shapefile.\n",
      "  gdf_boulder_annotation_segmentation.to_file(out_pickle.with_name(out_pickle.name.replace(\".pkl\", \".shp\")))\n",
      "100%|██████████| 2122/2122 [00:14<00:00, 146.88it/s]\n",
      "100%|██████████| 2343/2343 [00:15<00:00, 146.48it/s]\n"
     ]
    }
   ],
   "source": [
    "boulder_annotation_segmentation_train = create_annotations.segmentation(df_selection_boulders_train, image_annotations_train_df, dataset_directory, train_seg_annotations_pickle)\n",
    "boulder_annotation_segmentation_validation = create_annotations.segmentation(df_selection_boulders_validation, image_annotations_validation_df, dataset_directory, validation_seg_annotations_pickle)\n",
    "boulder_annotation_segmentation_test = create_annotations.segmentation(df_selection_boulders_test, image_annotations_test_df, dataset_directory, test_seg_annotations_pickle)"
   ]
  },
  {
   "cell_type": "code",
   "execution_count": 26,
   "id": "e48c67ac-0c7a-4fc1-9b39-181e32d9c95c",
   "metadata": {},
   "outputs": [
    {
     "data": {
      "text/html": [
       "<div>\n",
       "<style scoped>\n",
       "    .dataframe tbody tr th:only-of-type {\n",
       "        vertical-align: middle;\n",
       "    }\n",
       "\n",
       "    .dataframe tbody tr th {\n",
       "        vertical-align: top;\n",
       "    }\n",
       "\n",
       "    .dataframe thead th {\n",
       "        text-align: right;\n",
       "    }\n",
       "</style>\n",
       "<table border=\"1\" class=\"dataframe\">\n",
       "  <thead>\n",
       "    <tr style=\"text-align: right;\">\n",
       "      <th></th>\n",
       "      <th>id</th>\n",
       "      <th>shifted</th>\n",
       "      <th>geometry</th>\n",
       "      <th>area</th>\n",
       "      <th>NAC_id</th>\n",
       "      <th>tile_id</th>\n",
       "      <th>file_name</th>\n",
       "      <th>dataset</th>\n",
       "      <th>image_id</th>\n",
       "      <th>category_id</th>\n",
       "      <th>bbox_xyxy_pixel</th>\n",
       "      <th>bbox_xywh_pixel</th>\n",
       "      <th>bbox_xyxy_image</th>\n",
       "      <th>segmentation_mask</th>\n",
       "      <th>iscrowd</th>\n",
       "    </tr>\n",
       "  </thead>\n",
       "  <tbody>\n",
       "    <tr>\n",
       "      <th>0</th>\n",
       "      <td>0</td>\n",
       "      <td>2.0</td>\n",
       "      <td>POLYGON ((-1013.885 -7279.843, -1013.138 -7279...</td>\n",
       "      <td>43.238014</td>\n",
       "      <td>M139694087LE</td>\n",
       "      <td>30</td>\n",
       "      <td>M139694087LE_0030_image.png</td>\n",
       "      <td>train</td>\n",
       "      <td>103</td>\n",
       "      <td>0</td>\n",
       "      <td>[438, 98, 447, 104]</td>\n",
       "      <td>[438, 98, 9, 6]</td>\n",
       "      <td>[-1015.228748186628, -7283.053913976853, -1011...</td>\n",
       "      <td>[[441, 98, 442, 98, 445, 98, 446, 100, 447, 10...</td>\n",
       "      <td>0</td>\n",
       "    </tr>\n",
       "    <tr>\n",
       "      <th>1</th>\n",
       "      <td>1</td>\n",
       "      <td>2.0</td>\n",
       "      <td>POLYGON ((-1111.946 -7381.643, -1111.542 -7381...</td>\n",
       "      <td>40.391965</td>\n",
       "      <td>M139694087LE</td>\n",
       "      <td>30</td>\n",
       "      <td>M139694087LE_0030_image.png</td>\n",
       "      <td>train</td>\n",
       "      <td>103</td>\n",
       "      <td>0</td>\n",
       "      <td>[237, 306, 245, 313]</td>\n",
       "      <td>[237, 306, 8, 7]</td>\n",
       "      <td>[-1112.693184078843, -7383.851938930882, -1108...</td>\n",
       "      <td>[[238, 308, 239, 307, 240, 307, 241, 306, 242,...</td>\n",
       "      <td>0</td>\n",
       "    </tr>\n",
       "    <tr>\n",
       "      <th>2</th>\n",
       "      <td>2</td>\n",
       "      <td>2.0</td>\n",
       "      <td>POLYGON ((-1035.649 -7317.115, -1034.716 -7316...</td>\n",
       "      <td>96.042968</td>\n",
       "      <td>M139694087LE</td>\n",
       "      <td>30</td>\n",
       "      <td>M139694087LE_0030_image.png</td>\n",
       "      <td>train</td>\n",
       "      <td>103</td>\n",
       "      <td>0</td>\n",
       "      <td>[391, 173, 403, 184]</td>\n",
       "      <td>[391, 173, 12, 11]</td>\n",
       "      <td>[-1038.1230578818504, -7321.54939973708, -1032...</td>\n",
       "      <td>[[396, 175, 398, 174, 400, 173, 402, 175, 402,...</td>\n",
       "      <td>0</td>\n",
       "    </tr>\n",
       "    <tr>\n",
       "      <th>3</th>\n",
       "      <td>3</td>\n",
       "      <td>2.0</td>\n",
       "      <td>POLYGON ((-1162.604 -7397.990, -1162.044 -7396...</td>\n",
       "      <td>148.120391</td>\n",
       "      <td>M139694087LE</td>\n",
       "      <td>30</td>\n",
       "      <td>M139694087LE_0030_image.png</td>\n",
       "      <td>train</td>\n",
       "      <td>103</td>\n",
       "      <td>0</td>\n",
       "      <td>[133, 337, 146, 353]</td>\n",
       "      <td>[133, 337, 13, 16]</td>\n",
       "      <td>[-1162.8837175884391, -7403.24126081133, -1156...</td>\n",
       "      <td>[[133, 342, 134, 339, 136, 338, 139, 337, 142,...</td>\n",
       "      <td>0</td>\n",
       "    </tr>\n",
       "    <tr>\n",
       "      <th>4</th>\n",
       "      <td>4</td>\n",
       "      <td>2.0</td>\n",
       "      <td>POLYGON ((-994.436 -7412.597, -993.963 -7412.5...</td>\n",
       "      <td>45.281498</td>\n",
       "      <td>M139694087LE</td>\n",
       "      <td>30</td>\n",
       "      <td>M139694087LE_0030_image.png</td>\n",
       "      <td>train</td>\n",
       "      <td>103</td>\n",
       "      <td>0</td>\n",
       "      <td>[477, 372, 485, 380]</td>\n",
       "      <td>[477, 372, 8, 8]</td>\n",
       "      <td>[-996.431153922664, -7416.21965996571, -992.59...</td>\n",
       "      <td>[[481, 372, 482, 372, 483, 373, 484, 373, 484,...</td>\n",
       "      <td>0</td>\n",
       "    </tr>\n",
       "  </tbody>\n",
       "</table>\n",
       "</div>"
      ],
      "text/plain": [
       "   id  shifted                                           geometry        area  \\\n",
       "0   0      2.0  POLYGON ((-1013.885 -7279.843, -1013.138 -7279...   43.238014   \n",
       "1   1      2.0  POLYGON ((-1111.946 -7381.643, -1111.542 -7381...   40.391965   \n",
       "2   2      2.0  POLYGON ((-1035.649 -7317.115, -1034.716 -7316...   96.042968   \n",
       "3   3      2.0  POLYGON ((-1162.604 -7397.990, -1162.044 -7396...  148.120391   \n",
       "4   4      2.0  POLYGON ((-994.436 -7412.597, -993.963 -7412.5...   45.281498   \n",
       "\n",
       "         NAC_id  tile_id                    file_name dataset  image_id  \\\n",
       "0  M139694087LE       30  M139694087LE_0030_image.png   train       103   \n",
       "1  M139694087LE       30  M139694087LE_0030_image.png   train       103   \n",
       "2  M139694087LE       30  M139694087LE_0030_image.png   train       103   \n",
       "3  M139694087LE       30  M139694087LE_0030_image.png   train       103   \n",
       "4  M139694087LE       30  M139694087LE_0030_image.png   train       103   \n",
       "\n",
       "   category_id       bbox_xyxy_pixel     bbox_xywh_pixel  \\\n",
       "0            0   [438, 98, 447, 104]     [438, 98, 9, 6]   \n",
       "1            0  [237, 306, 245, 313]    [237, 306, 8, 7]   \n",
       "2            0  [391, 173, 403, 184]  [391, 173, 12, 11]   \n",
       "3            0  [133, 337, 146, 353]  [133, 337, 13, 16]   \n",
       "4            0  [477, 372, 485, 380]    [477, 372, 8, 8]   \n",
       "\n",
       "                                     bbox_xyxy_image  \\\n",
       "0  [-1015.228748186628, -7283.053913976853, -1011...   \n",
       "1  [-1112.693184078843, -7383.851938930882, -1108...   \n",
       "2  [-1038.1230578818504, -7321.54939973708, -1032...   \n",
       "3  [-1162.8837175884391, -7403.24126081133, -1156...   \n",
       "4  [-996.431153922664, -7416.21965996571, -992.59...   \n",
       "\n",
       "                                   segmentation_mask  iscrowd  \n",
       "0  [[441, 98, 442, 98, 445, 98, 446, 100, 447, 10...        0  \n",
       "1  [[238, 308, 239, 307, 240, 307, 241, 306, 242,...        0  \n",
       "2  [[396, 175, 398, 174, 400, 173, 402, 175, 402,...        0  \n",
       "3  [[133, 342, 134, 339, 136, 338, 139, 337, 142,...        0  \n",
       "4  [[481, 372, 482, 372, 483, 373, 484, 373, 484,...        0  "
      ]
     },
     "execution_count": 26,
     "metadata": {},
     "output_type": "execute_result"
    }
   ],
   "source": [
    "boulder_annotation_segmentation_train.head(5)"
   ]
  },
  {
   "cell_type": "markdown",
   "id": "694ed409-3e37-4db9-b10a-e11852502f56",
   "metadata": {},
   "source": [
    "## 9. Convert the image and segmentation labels to a json file (that can be imported as a custom dataset in Detectron 2)"
   ]
  },
  {
   "cell_type": "code",
   "execution_count": 27,
   "id": "4aa65ac6-110b-45d2-8d30-99ef42fc2ed4",
   "metadata": {},
   "outputs": [],
   "source": [
    "coco_annotations_train_json = Path(\"/home/nilscp/tmp/preprocessing/json/Censorinus-M139694087LE-v001-train-annotations-coco-format.json\")\n",
    "coco_annotations_validation_json = Path(\"/home/nilscp/tmp/preprocessing/json/Censorinus-M139694087LE-v001-validation-annotations-coco-format.json\")\n",
    "coco_annotations_test_json = Path(\"/home/nilscp/tmp/preprocessing/json/Censorinus-M139694087LE-v001-test-annotations-coco-format.json\")"
   ]
  },
  {
   "cell_type": "code",
   "execution_count": 28,
   "id": "1d6a3fbe-267b-4139-9f82-5e035aa2efa1",
   "metadata": {},
   "outputs": [
    {
     "name": "stdout",
     "output_type": "stream",
     "text": [
      "Censorinus-M139694087LE-v001-train-annotations-coco-format.json has been generated\n",
      "Censorinus-M139694087LE-v001-validation-annotations-coco-format.json has been generated\n",
      "Censorinus-M139694087LE-v001-test-annotations-coco-format.json has been generated\n"
     ]
    }
   ],
   "source": [
    "create_annotations.dataframes_to_json_coco_format(image_annotations_train_df, boulder_annotation_segmentation_train, coco_annotations_train_json)\n",
    "create_annotations.dataframes_to_json_coco_format(image_annotations_validation_df, boulder_annotation_segmentation_validation, coco_annotations_validation_json)\n",
    "create_annotations.dataframes_to_json_coco_format(image_annotations_test_df, boulder_annotation_segmentation_test, coco_annotations_test_json)"
   ]
  },
  {
   "cell_type": "code",
   "execution_count": null,
   "id": "540868ad-dd9b-4b3c-947f-08942f45f19b",
   "metadata": {},
   "outputs": [],
   "source": []
  }
 ],
 "metadata": {
  "kernelspec": {
   "display_name": "Python 3 (ipykernel)",
   "language": "python",
   "name": "python3"
  },
  "language_info": {
   "codemirror_mode": {
    "name": "ipython",
    "version": 3
   },
   "file_extension": ".py",
   "mimetype": "text/x-python",
   "name": "python",
   "nbconvert_exporter": "python",
   "pygments_lexer": "ipython3",
   "version": "3.8.0"
  }
 },
 "nbformat": 4,
 "nbformat_minor": 5
}
