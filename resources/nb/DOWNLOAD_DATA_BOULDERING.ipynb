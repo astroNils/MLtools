{
 "cells": [
  {
   "cell_type": "markdown",
   "id": "b4121c83-f4ea-42c3-8245-06a6c47dd8ce",
   "metadata": {},
   "source": [
    "# Download of input data\n",
    "This jupyter notebook provides an overview in how to download the required inputs of the following manuscript: \n",
    "\n",
    "[Automatic detection, mapping, and characterization of boulders on planetary surfaces from high-resolution satellite images](https://link-to-accepted-paper).\n",
    "\n",
    "It includes an explanation in how to download the: \n",
    "+ raw inputs (raster images and labeled boulders) required to trained the Mask R-CNN neural network.\n",
    "+ pre-processed raw inputs (in a format that can be directly imported in detectron2). \n",
    "+ model setup and weights of the model that gave the best model performances, which is required for the prediction of boulders in new images.\n",
    "\n",
    "## Getting prepared\n",
    "\n",
    "Let's assume that you work on a Linux or UNIX machine. If this is not the case, I would advice you to install [Git for Windows](https://gitforwindows.org/) on your Windows computer. \n",
    "\n",
    "Let's save all of the inputs in a temporary directory in your home folder `~/tmp/BOULDERING`. "
   ]
  },
  {
   "cell_type": "code",
   "execution_count": 2,
   "id": "66e7bd95-c930-492e-9bb7-45d643e929b0",
   "metadata": {},
   "outputs": [],
   "source": [
    "from pathlib import Path"
   ]
  },
  {
   "cell_type": "code",
   "execution_count": 3,
   "id": "5f17599a-e5e9-4705-a1b8-106f26bd8918",
   "metadata": {},
   "outputs": [],
   "source": [
    "home_p = Path.home()\n",
    "work_dir= home_p / \"tmp\" / \"BOULDERING\"\n",
    "work_dir.mkdir(parents=True, exist_ok=True)"
   ]
  },
  {
   "cell_type": "markdown",
   "id": "760d6cac-4757-460e-a5bd-b2551892ec88",
   "metadata": {},
   "source": [
    "## Install gdown\n",
    "Let's use the `gdown` Python library to download the inputs from my GoogleDrive. Let's install it quickly within this Jupyter Notebook. "
   ]
  },
  {
   "cell_type": "code",
   "execution_count": 4,
   "id": "857c0752-7562-4847-b483-a8e006b8ee39",
   "metadata": {},
   "outputs": [
    {
     "name": "stdout",
     "output_type": "stream",
     "text": [
      "Collecting gdown\n",
      "  Downloading gdown-4.7.1-py3-none-any.whl (15 kB)\n",
      "Collecting filelock (from gdown)\n",
      "  Downloading filelock-3.12.2-py3-none-any.whl (10 kB)\n",
      "Requirement already satisfied: requests[socks] in /home/nilscp/.pyenv/versions/3.9.17/envs/computer-vision/lib/python3.9/site-packages (from gdown) (2.31.0)\n",
      "Requirement already satisfied: six in /home/nilscp/.pyenv/versions/3.9.17/envs/computer-vision/lib/python3.9/site-packages (from gdown) (1.16.0)\n",
      "Requirement already satisfied: tqdm in /home/nilscp/.pyenv/versions/3.9.17/envs/computer-vision/lib/python3.9/site-packages (from gdown) (4.65.0)\n",
      "Requirement already satisfied: beautifulsoup4 in /home/nilscp/.pyenv/versions/3.9.17/envs/computer-vision/lib/python3.9/site-packages (from gdown) (4.12.2)\n",
      "Requirement already satisfied: soupsieve>1.2 in /home/nilscp/.pyenv/versions/3.9.17/envs/computer-vision/lib/python3.9/site-packages (from beautifulsoup4->gdown) (2.4.1)\n",
      "Requirement already satisfied: charset-normalizer<4,>=2 in /home/nilscp/.pyenv/versions/3.9.17/envs/computer-vision/lib/python3.9/site-packages (from requests[socks]->gdown) (3.1.0)\n",
      "Requirement already satisfied: idna<4,>=2.5 in /home/nilscp/.pyenv/versions/3.9.17/envs/computer-vision/lib/python3.9/site-packages (from requests[socks]->gdown) (3.4)\n",
      "Requirement already satisfied: urllib3<3,>=1.21.1 in /home/nilscp/.pyenv/versions/3.9.17/envs/computer-vision/lib/python3.9/site-packages (from requests[socks]->gdown) (2.0.3)\n",
      "Requirement already satisfied: certifi>=2017.4.17 in /home/nilscp/.pyenv/versions/3.9.17/envs/computer-vision/lib/python3.9/site-packages (from requests[socks]->gdown) (2023.5.7)\n",
      "Collecting PySocks!=1.5.7,>=1.5.6 (from requests[socks]->gdown)\n",
      "  Downloading PySocks-1.7.1-py3-none-any.whl (16 kB)\n",
      "Installing collected packages: PySocks, filelock, gdown\n",
      "Successfully installed PySocks-1.7.1 filelock-3.12.2 gdown-4.7.1\n"
     ]
    }
   ],
   "source": [
    "!pip install gdown\n",
    "import gdown"
   ]
  },
  {
   "cell_type": "markdown",
   "id": "179e3668-7614-479f-bc8c-b5e95bdb3115",
   "metadata": {},
   "source": [
    "## Download raw inputs (Size: 8.8 GB)\n",
    "Contains all of the rasters (planetary images), and labeled boulders. There are multiple shapefiles provided in the raw data:\n",
    "+ a boulder-mapping file, which is the manually digitized outline of boulders.\n",
    "+ a ROM file (stands for Region of Mapping), which depicts the image patches on which the boulder mapping has been conducted.\n",
    "+ a global-tiles file, which shows all of the image patches within the raster. <br>\n",
    "\n",
    "**Structure**\n",
    "\n",
    "```\n",
    ".\n",
    "└── raw_data/\n",
    "    ├── earth/\n",
    "    │   └── image_name/\n",
    "    │       ├── shp/\n",
    "    │       │   ├── <image_name>-ROM.shp\n",
    "    │       │   ├── <image_name>-boulder-mapping.shp\n",
    "    │       │   └── <image_name>-global-tiles.shp\n",
    "    │       └── raster/\n",
    "    │           └── <image_name>.tif\n",
    "    ├── mars/\n",
    "    │   └── image_name/\n",
    "    │       ├── shp/\n",
    "    │       │   ├── <image_name>-ROM.shp\n",
    "    │       │   ├── <image_name>-boulder-mapping.shp\n",
    "    │       │   └── <image_name>-global-tiles.shp\n",
    "    │       └── raster/\n",
    "    │           └── <image_name>.tif\n",
    "    └── moon/\n",
    "        └── image_name/\n",
    "            ├── shp/\n",
    "            │   ├── <image_name>-ROM.shp\n",
    "            │   ├── <image_name>-boulder-mapping.shp\n",
    "            │   └── <image_name>-global-tiles.shp\n",
    "            └── raster/\n",
    "                └── <image_name>.tif\n",
    "```\n",
    "\n",
    "There are multiple locations/images per planetary body. "
   ]
  },
  {
   "cell_type": "code",
   "execution_count": 11,
   "id": "2d01da92-5323-4f05-a2c0-552e10a30e5d",
   "metadata": {},
   "outputs": [
    {
     "data": {
      "text/plain": [
       "'/home/nilscp/tmp/BOULDERING/raw_data_BOULDERING.zip'"
      ]
     },
     "execution_count": 11,
     "metadata": {},
     "output_type": "execute_result"
    }
   ],
   "source": [
    "url_raw_inputs = \"https://drive.google.com/uc?id=10EJPATaMdS82jKOFR7rZ6o5fT6mSIhdu\"\n",
    "gdown.download(url_raw_inputs, (work_dir / \"raw_data_BOULDERING.zip\").as_posix(), quiet=True)\n",
    "\n",
    "# only work for Linux or UNIX machine (for Windows user, you can unzip the folder manually)\n",
    "!unzip ~/tmp/BOULDERING/raw_data_BOULDERING.zip -d ~/tmp/BOULDERING/"
   ]
  },
  {
   "cell_type": "markdown",
   "id": "594dd7ce-4928-4d61-823a-402bc97b0ce2",
   "metadata": {},
   "source": [
    "## Pre-processed raw inputs\n",
    "The steps to pre-process raw inputs are described in the PREPROCESSING_BOULDERING jupyter-notebook. If you don't plan in adding more training data, you can directly used the pre-processed data. If you want to add more labeled boulder data, you need to download the raw inputs, and adopt a similar structure as shown in the previous code cell. \n",
    "\n",
    "Size: 252.8 MB\n",
    "\n",
    "```\n",
    ".\n",
    "└── preprocessed_inputs/\n",
    "    ├── json/ (image patches + labeled boulder datasets in a format that can be imported in Detectron2)\n",
    "    ├── pkl/ (additional information that can be loaded in Python. Pickle format.)\n",
    "    ├── preprocessing/ (contain training, validation and test image patches and corresponding instance and semantic segmentation masks)\n",
    "    │   ├── train/\n",
    "    │   │   ├── images/\n",
    "    │   │   └── labels/\n",
    "    │   ├── validation/\n",
    "    │   │   ├── images/\n",
    "    │   │   └── labels/\n",
    "    │   └── test/\n",
    "    │       ├── images/\n",
    "    │       └── labels/\n",
    "    └── shp/ (does not contain anything, can be deleted)\n",
    "```"
   ]
  },
  {
   "cell_type": "code",
   "execution_count": 10,
   "id": "b2e0ea43-9920-422b-8e04-bb867c48f446",
   "metadata": {},
   "outputs": [
    {
     "name": "stdout",
     "output_type": "stream",
     "text": [
      "Archive:  /home/nilscp/tmp/BOULDERING/Apr2023-Mars-Moon-Earth-mask-5px.zip\n",
      "replace /home/nilscp/tmp/BOULDERING/Apr2023-Mars-Moon-Earth-mask-5px/json/Apr2023-Mars-Moon-Earth-mask-5px.json? [y]es, [n]o, [A]ll, [N]one, [r]ename: ^C\n"
     ]
    }
   ],
   "source": [
    "url_pre_processed_inputs = \"https://drive.google.com/uc?id=131sJ2PFiUvBfYhuxAbZXWyK_dXyjNcRh\"\n",
    "gdown.download(url_pre_processed_inputs, (work_dir / \"Apr2023-Mars-Moon-Earth-mask-5px.zip\").as_posix(), quiet=True)\n",
    "\n",
    "# only work for Linux or UNIX machine (for Windows user, you can unzip the folder manually)\n",
    "!unzip ~/tmp/BOULDERING/Apr2023-Mars-Moon-Earth-mask-5px.zip -d ~/tmp/BOULDERING/\n",
    "# let's change the name so it gives more sense\n",
    "!mv ~/tmp/BOULDERING/Apr2023-Mars-Moon-Earth-mask-5px ~/tmp/BOULDERING/preprocessed_inputs"
   ]
  },
  {
   "cell_type": "markdown",
   "id": "0f34c02f-41b6-4811-aea9-0ab1d3d438a5",
   "metadata": {},
   "source": [
    "## Model setup, weights and augmentation files"
   ]
  },
  {
   "cell_type": "code",
   "execution_count": 12,
   "id": "d3b2ca9a-097e-4944-be12-9d7f0326c4c5",
   "metadata": {},
   "outputs": [
    {
     "data": {
      "text/plain": [
       "'/home/nilscp/tmp/BOULDERING/model_weights.pth'"
      ]
     },
     "execution_count": 12,
     "metadata": {},
     "output_type": "execute_result"
    }
   ],
   "source": [
    "url_model_setup = \"https://drive.google.com/uc?id=1O-EH_VmzpI3s4V1ouSFXg8jhbNjZpqlj\"\n",
    "url_model_setup_base = \"https://drive.google.com/uc?id=19aYv6aPvpbCD8EXvcfHB1abkibLTxTbB\"\n",
    "url_aug_setup = \"https://drive.google.com/uc?id=1SHSQgbN9hUyu-mCRKvUO9J8HgryOgh1X\"\n",
    "url_model_weights = \"https://drive.google.com/uc?id=1hTufdIEHo06M0ZzDPZ1MxQRKzxE0VVkO\"\n",
    "\n",
    "#url_model_weights = \"https://drive.google.com/uc?id=1ln9FXZNEniuJ2y1KLkH8sn9LlVAUTH3M\"\n",
    "gdown.download(url_model_setup, (work_dir / \"model_setup.yaml\").as_posix(), quiet=True)\n",
    "gdown.download(url_model_setup_base, (work_dir / \"base_setup.yaml\").as_posix(), quiet=True)\n",
    "gdown.download(url_aug_setup, (work_dir / \"augmentation_setup.json\").as_posix(), quiet=True)\n",
    "gdown.download(url_model_weights, (work_dir / \"model_weights.pth\").as_posix(), quiet=True)"
   ]
  },
  {
   "cell_type": "code",
   "execution_count": 13,
   "id": "27a1ab14-e287-4352-a4a8-bfb0ed8fe730",
   "metadata": {},
   "outputs": [],
   "source": [
    "!mkdir ~/tmp/BOULDERING/best_model\n",
    "!mv ~/tmp/BOULDERING/model_setup.yaml ~/tmp/BOULDERING/best_model/ # model setup (overwrite parameters in base setup)\n",
    "!mv ~/tmp/BOULDERING/base_setup.yaml ~/tmp/BOULDERING/best_model/ # base setup required (loading first)\n",
    "!mv ~/tmp/BOULDERING/augmentation_setup.json ~/tmp/BOULDERING/best_model/ # includes the different augmentations used during training.\n",
    "!mv ~/tmp/BOULDERING/model_weights.pth ~/tmp/BOULDERING/best_model/ # model weights (after training is done)."
   ]
  }
 ],
 "metadata": {
  "kernelspec": {
   "display_name": "Python 3 (ipykernel)",
   "language": "python",
   "name": "python3"
  },
  "language_info": {
   "codemirror_mode": {
    "name": "ipython",
    "version": 3
   },
   "file_extension": ".py",
   "mimetype": "text/x-python",
   "name": "python",
   "nbconvert_exporter": "python",
   "pygments_lexer": "ipython3",
   "version": "3.9.17"
  }
 },
 "nbformat": 4,
 "nbformat_minor": 5
}
