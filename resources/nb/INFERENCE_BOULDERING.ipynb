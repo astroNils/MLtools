{
 "cells": [
  {
   "cell_type": "code",
   "execution_count": 3,
   "id": "51224cf5-7320-47e6-9a54-253aa1cd5541",
   "metadata": {},
   "outputs": [],
   "source": [
    "import sys\n",
    "sys.path.append(\"/home/nilscp/GIT\") # need to be fix\n",
    "3#rom MLtools import inference # need to be fix\n",
    "from pathlib import Path"
   ]
  },
  {
   "cell_type": "markdown",
   "id": "d3cf31e9-8910-4d88-9ac6-00eb87832ed0",
   "metadata": {},
   "source": [
    "### There are two ways to make predictions:\n",
    "A. You can use the `predictions_stitching_filtering` function in the MLtools python package. <br>\n",
    "B. or you can use directly the few functions provided on the Detectron2 platform (note that this step does not include any post-processing steps, and will give you only raw predictions). \n",
    "\n",
    "In both cases, the input image(s) need(s) to be selected and the paths to the model setup and weigths need to be specified. \n",
    "\n",
    "## A. Using the function *predictions_stichting_filtering*\n",
    "### 1. Selection of a specific image (or multiple images)"
   ]
  },
  {
   "cell_type": "markdown",
   "id": "2261a04c-c579-4673-9c70-35eb0cb3fd73",
   "metadata": {},
   "source": [
    "#### Single image selection"
   ]
  },
  {
   "cell_type": "code",
   "execution_count": null,
   "id": "a0de7d18-2fa9-435e-9346-7ae25fceb3a6",
   "metadata": {},
   "outputs": [],
   "source": [
    "tif = Path(\"/home/nilscp/tmp/tmp_pred/M1098366481.tif\") # need to provide one small image patch 512x512 for example. "
   ]
  },
  {
   "cell_type": "markdown",
   "id": "e71e9858-3fe4-4ed4-83a9-1cc2bc6f47ec",
   "metadata": {},
   "source": [
    "#### Multiple images selection"
   ]
  },
  {
   "cell_type": "code",
   "execution_count": null,
   "id": "d7944cb0-14d4-4886-ae99-34b0d781ba25",
   "metadata": {},
   "outputs": [],
   "source": [
    "input_folder = Path(\"/home/nilscp/tmp/tmp_pred\")\n",
    "tifs = list(input_folder.rglob(\"*.tif\"))"
   ]
  },
  {
   "cell_type": "markdown",
   "id": "637f001d-9d1b-4542-ac64-6bc53e7e8c44",
   "metadata": {},
   "source": [
    "### 2. Setup of the model (load model setup and model weights)\n",
    "Be sure that you have all of the inputs needed: \n",
    "1. Model setup file\n",
    "2. Model weights\n",
    "Both of those files can be downloaded from the project's GoogleDrive (please follow the instructions at: [DOWNLOAD_DATA_BOULDERING.ipynb](./DOWNLOAD_DATA_BOULDERING.ipynb))"
   ]
  },
  {
   "cell_type": "code",
   "execution_count": 4,
   "id": "f6b36eb2-222e-447a-900f-86b4caaf4d1d",
   "metadata": {},
   "outputs": [],
   "source": [
    "home_p = Path.home()\n",
    "work_dir = home_p / \"tmp\" / \"BOULDERING\"\n",
    "model_dir = work_dir / \"best_model\""
   ]
  },
  {
   "cell_type": "markdown",
   "id": "b28dc738-c285-4bfc-be47-5d299964ad61",
   "metadata": {},
   "source": [
    "BE CAREFUL, you have to modify the first line in the `model_setup.yaml` so that the path stored in the variable `_BASE_` corresponds to the actual path on your own computer.\n",
    "```bash\n",
    "_BASE_: <$HOME_DIRECTORY>/tmp/BOULDERING/best_model/base_setup.yaml\n",
    "```"
   ]
  },
  {
   "cell_type": "code",
   "execution_count": null,
   "id": "c6717da8-9871-4a64-9715-8f639ed57f94",
   "metadata": {},
   "outputs": [],
   "source": [
    "config_file = model_dir / \"model_setup.yaml\"\n",
    "model_weights = model_dir / \"model_weights.pth\" # correspond to iteration 54,000\n",
    "device = \"cuda\" # \"cpu\" or \"cuda\", see comment below, please run the predictions for large images on a computer with a graphical card. \n",
    "block_width = 512 \n",
    "block_height = 512 "
   ]
  },
  {
   "cell_type": "markdown",
   "id": "c3dc1312-0f10-4347-a1e5-438ce616b26c",
   "metadata": {},
   "source": [
    "I would suggest you to run this function on a computer with a graphical card (e.g., \"cuda\"), as the function is not yet optimized, and takes a rather long amount of time to run. I will improve this function over time, but it may take a little bit of time..."
   ]
  },
  {
   "cell_type": "markdown",
   "id": "9a2ed238-e0f7-4f53-991e-8426fcbe9ce2",
   "metadata": {},
   "source": [
    "### 3. predictions_stitching_filtering\n",
    "\n",
    "There are lot of things happening in this function. I am using therefore a little bit of time in describing the different variables that need to be defined, what they are doing, and give an example.  \n",
    "\n",
    "#### Variables in function:\n",
    "*in_raster*: <br>\n",
    "*config_file*: <br>\n",
    "*model_weights*: <br>\n",
    "*device*: <br>\n",
    "*search_tif_pattern*: <br>\n",
    "*distance_p*: <br>\n",
    "*block_width*: <br>\n",
    "*block_height*: <br>\n",
    "*output_dir*: <br>\n",
    "*is_tta*: <br>\n",
    "*scores_thresh_test*: <br>\n",
    "*nms_thresh_test*: <br>\n",
    "*min_size_test*: <br>\n",
    "*max_size_test*: <br>\n",
    "*pre_nms_topk_test*: <br>\n",
    "*post_nms_topk_test*: <br>\n",
    "*detections_per_image*: <br>\n",
    "\n",
    "#### Summary\n",
    "\n",
    "First, it will automatically tile the original raster into smaller image patches with dimension corresponding to `block_height` and `block_width`. This step is conducted as images in Planetary Science are often so large that they can not be directly given as input to a deep learning model. In addition, as we do not want to have any boundary effects (i.e., predictions close to the edge of the image), we repeat the tiling of the original raster for 6 different stride combinations: <br>\n",
    "   a. (0,0) --> no stride <br>\n",
    "   b. () --> <br>\n",
    "   c. () --> <br>\n",
    "   d. () --> <br>\n",
    "   e. () --> <br>\n",
    "   f. () --> <br>\n",
    "\n",
    "Having overlapping predictions with slightly different strides allow us to select predictions which are not \n",
    "\n",
    "For each of those stride setup we: <br>\n",
    "3. Run predictions for <br>\n",
    "4. dsds <br>\n",
    "5. <br>\n",
    "\n",
    "OPTIONS (distance_p, scores_thresh_test=0.10, nms_thresh_test=0.30, min_size_test=512, max_size_test=512, \n",
    "         pre_nms_topk_test=2000, post_nms_topk_test=1000, detections_per_image=2000)\n",
    "\n",
    "All of those parameters are prediction parameters from the Mask R-CNN instance segmentation neural network. \n",
    "\n",
    "\n",
    "TODO: \n",
    "1. config version is automatically extracted from the name of the config file (this needs to be fixed...)\n",
    "2. Not sure if search_tif_pattern is really useful flag to have.\n",
    "4. \n",
    "\n",
    "FUNCTIONS USED:\n",
    "- create_annotations.generate_graticule_from_raster\n",
    "- create_annotations.tiling_raster_from_dataframe\n",
    "- predict\n",
    "\n",
    "This should be modified so that it is in agreement with the last modifications in `rastertools` and `MLtools`."
   ]
  },
  {
   "cell_type": "code",
   "execution_count": null,
   "id": "ffe9c3e8-ccc5-465a-a285-0e4756509e4c",
   "metadata": {},
   "outputs": [],
   "source": [
    "block_width = 512\n",
    "block_height = 512\n",
    "output_dir = Path(\"\") \n",
    "is_tta = True\n",
    "scores_thresh_test = 0.10\n",
    "nms_thresh_test = 0.30\n",
    "min_size_test = 512\n",
    "max_size_test = 512\n",
    "pre_nms_topk_test = 2000\n",
    "post_nms_topk_test = 1000\n",
    "detections_per_image = 2000"
   ]
  },
  {
   "cell_type": "code",
   "execution_count": null,
   "id": "4f6572a9-d692-4e84-8796-e9bebfa454ae",
   "metadata": {},
   "outputs": [],
   "source": [
    "predictions_stitching_filtering(in_raster, config_file, model_weights,\n",
    "                                    device, search_tif_pattern, distance_p,\n",
    "                                    block_width, block_height, output_dir, is_tta=True,\n",
    "                                    scores_thresh_test=0.10,\n",
    "                                    nms_thresh_test=0.30,\n",
    "                                    min_size_test=512, max_size_test=512,\n",
    "                                    pre_nms_topk_test=2000,\n",
    "                                    post_nms_topk_test=1000,\n",
    "                                    detections_per_image=2000)"
   ]
  },
  {
   "cell_type": "markdown",
   "id": "58ea5181-112b-4962-ac94-790c78c436a2",
   "metadata": {},
   "source": [
    "## A few tips and tricks\n",
    "I would advice you to run predictions with a low value for `scores_thresh_test`, like"
   ]
  },
  {
   "cell_type": "markdown",
   "id": "d4184617-2dd0-46d0-aa41-a7d0f709c2ca",
   "metadata": {},
   "source": [
    "## B. Raw predictions with Detectron2 functions\n"
   ]
  },
  {
   "cell_type": "code",
   "execution_count": null,
   "id": "dbd540c3-0b23-4f5b-871c-a43580f72096",
   "metadata": {},
   "outputs": [],
   "source": []
  }
 ],
 "metadata": {
  "kernelspec": {
   "display_name": "Python 3 (ipykernel)",
   "language": "python",
   "name": "python3"
  },
  "language_info": {
   "codemirror_mode": {
    "name": "ipython",
    "version": 3
   },
   "file_extension": ".py",
   "mimetype": "text/x-python",
   "name": "python",
   "nbconvert_exporter": "python",
   "pygments_lexer": "ipython3",
   "version": "3.9.17"
  }
 },
 "nbformat": 4,
 "nbformat_minor": 5
}
