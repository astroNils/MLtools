{
 "cells": [
  {
   "cell_type": "markdown",
   "id": "9a78a6aa-862a-4fe3-94c6-62562859613f",
   "metadata": {},
   "source": [
    "## Training of Mask R-CNN\n",
    "\n",
    "The training of the algorithm can be done in the terminal. \n",
    "\n",
    "```bash\n",
    "# cd to the MLtools GIT repository\n",
    "cd projects/bouldering/\n",
    "python train_net.py --help # if you want to have information about the different inputs\n",
    "\n",
    "usage: train_net.py [-h] [--config-file FILE] [--resume] [--eval-only] [--num-gpus NUM_GPUS] [--num-machines NUM_MACHINES] [--machine-rank MACHINE_RANK] [--aug-path FILE]\n",
    "                    [--min-area-npixels MIN_AREA_NPIXELS] [--optimizer-name OPTIMIZER_NAME] [--scheduler-mode SCHEDULER_MODE] [--dist-url DIST_URL]\n",
    "                    ...\n",
    "\n",
    "positional arguments:\n",
    "  opts                  Modify config options at the end of the command. For Yacs configs, use space-separated \"PATH.KEY VALUE\" pairs. For python-based LazyConfig, use \"path.key=value\".\n",
    "\n",
    "optional arguments:\n",
    "  -h, --help            show this help message and exit\n",
    "  --config-file FILE    path to config file\n",
    "  --resume              Whether to attempt to resume from the checkpoint directory. See documentation of `DefaultTrainer.resume_or_load()` for what it means.\n",
    "  --eval-only           perform evaluation only\n",
    "  --num-gpus NUM_GPUS   number of gpus *per machine*\n",
    "  --num-machines NUM_MACHINES\n",
    "                        total number of machines\n",
    "  --machine-rank MACHINE_RANK\n",
    "                        the rank of this machine (unique per machine)\n",
    "  --aug-path FILE       path to augmentation file\n",
    "  --min-area-npixels MIN_AREA_NPIXELS\n",
    "                        threshold for filtering masks smaller than X pixels\n",
    "  --optimizer-name OPTIMIZER_NAME\n",
    "                        optimizer name (SGD, ADAM, ADAMW)\n",
    "  --scheduler-mode SCHEDULER_MODE\n",
    "                        mode of cycling in CyclingLR\n",
    "  --dist-url DIST_URL   initialization URL for pytorch distributed backend. See https://pytorch.org/docs/stable/distributed.html for details.\n",
    "\n",
    "```\n",
    "\n",
    "So far, only `SGD` works in `--optimizer-name`"
   ]
  },
  {
   "cell_type": "markdown",
   "id": "03dc5395-f3df-4672-9c34-a0935bd0f919",
   "metadata": {},
   "source": [
    "## How to create an augmentation file"
   ]
  },
  {
   "cell_type": "code",
   "execution_count": 3,
   "id": "c4e0fbe5-6f24-4d2b-8321-5f3b84a33eeb",
   "metadata": {},
   "outputs": [],
   "source": [
    "import albumentations as A\n",
    "import pandas as pd\n",
    "from pathlib import Path"
   ]
  },
  {
   "cell_type": "code",
   "execution_count": 4,
   "id": "4c4ec546-642e-483d-916d-64900e4994dd",
   "metadata": {},
   "outputs": [],
   "source": [
    "home_p = Path.home()\n",
    "test_aug_p = home_p / \"tmp\" / \"BOULDERING\" / \"best_model\" / \"test_augmentation_setup.json\""
   ]
  },
  {
   "cell_type": "markdown",
   "id": "aeaa3409-fb9d-4080-b5ed-11f9602f06a9",
   "metadata": {},
   "source": [
    "In order to compensate for the relatively small amount of image patches used in our study, we had to use a large number of augmentations. We organize it in number of blocks:\n",
    "1. Rotations of the image\n",
    "2. Contrast, Brightness/intensity, Noise/Blur\n",
    "3. Re-scaling to larger size and cropping down to 512 pixels in 50% if time.\n",
    "4. Elastic transform, Grid distortion, coarse dropout.\n",
    "\n",
    "If you are unfamiliar with augmentations, please check the documentation of Albumentation (https://albumentations.ai/)."
   ]
  },
  {
   "cell_type": "code",
   "execution_count": 5,
   "id": "7a1be816-c859-4dea-a6d2-ebbd5a21290d",
   "metadata": {},
   "outputs": [],
   "source": [
    "default_transform = A.LongestMaxSize(max_size=512, interpolation=2, p=1.0)\n",
    "\n",
    "block1 = A.OneOf([A.NoOp(p=1.0), \n",
    "                  A.Affine(p=1.0, rotate = 90.0), \n",
    "                  A.Affine(p=1.0, rotate = 180.0), \n",
    "                  A.Affine(p=1.0, rotate = 270.0),\n",
    "                  A.HorizontalFlip(p=1.0), \n",
    "                  A.VerticalFlip(p=1.0), \n",
    "                  A.Transpose(p=1.0), \n",
    "                  A.Compose([A.Affine(p=1.0, rotate = 180.0), A.Transpose(p=1.0)], p=1.0)], p=1.0)\n",
    "\n",
    "block1_and_default = A.Compose([default_transform, block1])\n",
    "\n",
    "block2 = A.OneOf([A.CLAHE(p=1.0, clip_limit=(1.0, 4.0), tile_grid_size=(8,8)), \n",
    "                  A.RandomGamma(p=1.0, gamma_limit=(80, 150)), \n",
    "                  A.GaussNoise(p=1.0, var_limit=(10.0, 50.0), mean=0, per_channel=False), \n",
    "                  A.Sharpen(p=1.0),\n",
    "                  A.Blur(p=1.0, blur_limit=(3,7)),\n",
    "                  A.NoOp(p=1.0)], p=1.0)\n",
    "\n",
    "block12_and_default = A.Compose([default_transform, block1, block2])\n",
    "\n",
    "block3_p1 = A.Compose([A.LongestMaxSize(max_size=[640, 768, 896, 1024, 1152, 1280], interpolation=2, p=1.0), \n",
    "                       A.CropNonEmptyMaskIfExists(height=512, width=512, p=0.5)], p=1.0) # 256?\n",
    "block3_p2 = A.NoOp(p=0.5)\n",
    "\n",
    "block3 = A.OneOf([block3_p1, block3_p2], p=1.0)\n",
    "                  \n",
    "block123_and_default = A.Compose([default_transform, block1, block2, block3])\n",
    "\n",
    "block4 = A.OneOf([A.ElasticTransform(p=1.0, alpha=1, sigma=50, alpha_affine=20, interpolation=2, border_mode=0), \n",
    "                  A.GridDistortion(p=1.0, num_steps=8, distort_limit=0.3, interpolation=2, border_mode=0), \n",
    "                  A.CoarseDropout(p=1.0, min_holes=2, max_holes=32, max_height=12, min_height=12, min_width=12, max_width=12), \n",
    "                  A.NoOp(p=1.0)], p=1.0)\n",
    "\n",
    "block1234_and_default = A.Compose([default_transform, block1, block2, block3, block4])\n",
    "pd.DataFrame(block1234_and_default.to_dict()).to_json(test_aug_p)"
   ]
  },
  {
   "cell_type": "code",
   "execution_count": 6,
   "id": "8149ddf5-38c9-4e73-9af0-537949a5acc6",
   "metadata": {},
   "outputs": [
    {
     "data": {
      "text/plain": [
       "Compose([\n",
       "  LongestMaxSize(always_apply=False, p=1.0, max_size=512, interpolation=2),\n",
       "  OneOf([\n",
       "    NoOp(always_apply=False, p=1.0),\n",
       "    Affine(always_apply=False, p=1.0, interpolation=1, mask_interpolation=0, cval=0, mode=0, scale={'x': (1.0, 1.0), 'y': (1.0, 1.0)}, translate_percent=None, translate_px={'x': (0, 0), 'y': (0, 0)}, rotate=(90.0, 90.0), fit_output=False, shear={'x': (0.0, 0.0), 'y': (0.0, 0.0)}, cval_mask=0, keep_ratio=False, rotate_method='largest_box'),\n",
       "    Affine(always_apply=False, p=1.0, interpolation=1, mask_interpolation=0, cval=0, mode=0, scale={'x': (1.0, 1.0), 'y': (1.0, 1.0)}, translate_percent=None, translate_px={'x': (0, 0), 'y': (0, 0)}, rotate=(180.0, 180.0), fit_output=False, shear={'x': (0.0, 0.0), 'y': (0.0, 0.0)}, cval_mask=0, keep_ratio=False, rotate_method='largest_box'),\n",
       "    Affine(always_apply=False, p=1.0, interpolation=1, mask_interpolation=0, cval=0, mode=0, scale={'x': (1.0, 1.0), 'y': (1.0, 1.0)}, translate_percent=None, translate_px={'x': (0, 0), 'y': (0, 0)}, rotate=(270.0, 270.0), fit_output=False, shear={'x': (0.0, 0.0), 'y': (0.0, 0.0)}, cval_mask=0, keep_ratio=False, rotate_method='largest_box'),\n",
       "    HorizontalFlip(always_apply=False, p=1.0),\n",
       "    VerticalFlip(always_apply=False, p=1.0),\n",
       "    Transpose(always_apply=False, p=1.0),\n",
       "    Compose([\n",
       "      Affine(always_apply=False, p=1.0, interpolation=1, mask_interpolation=0, cval=0, mode=0, scale={'x': (1.0, 1.0), 'y': (1.0, 1.0)}, translate_percent=None, translate_px={'x': (0, 0), 'y': (0, 0)}, rotate=(180.0, 180.0), fit_output=False, shear={'x': (0.0, 0.0), 'y': (0.0, 0.0)}, cval_mask=0, keep_ratio=False, rotate_method='largest_box'),\n",
       "      Transpose(always_apply=False, p=1.0),\n",
       "    ], p=1.0, bbox_params=None, keypoint_params=None, additional_targets={}, is_check_shapes=True),\n",
       "  ], p=1.0),\n",
       "  OneOf([\n",
       "    CLAHE(always_apply=False, p=1.0, clip_limit=(1.0, 4.0), tile_grid_size=(8, 8)),\n",
       "    RandomGamma(always_apply=False, p=1.0, gamma_limit=(80, 150), eps=None),\n",
       "    GaussNoise(always_apply=False, p=1.0, var_limit=(10.0, 50.0), per_channel=False, mean=0),\n",
       "    Sharpen(always_apply=False, p=1.0, alpha=(0.2, 0.5), lightness=(0.5, 1.0)),\n",
       "    Blur(always_apply=False, p=1.0, blur_limit=(3, 7)),\n",
       "    NoOp(always_apply=False, p=1.0),\n",
       "  ], p=1.0),\n",
       "  OneOf([\n",
       "    Compose([\n",
       "      LongestMaxSize(always_apply=False, p=1.0, max_size=[640, 768, 896, 1024, 1152, 1280], interpolation=2),\n",
       "      CropNonEmptyMaskIfExists(always_apply=False, p=0.5, height=512, width=512, ignore_values=None, ignore_channels=None),\n",
       "    ], p=1.0, bbox_params=None, keypoint_params=None, additional_targets={}, is_check_shapes=True),\n",
       "    NoOp(always_apply=False, p=0.5),\n",
       "  ], p=1.0),\n",
       "  OneOf([\n",
       "    ElasticTransform(always_apply=False, p=1.0, alpha=1, sigma=50, alpha_affine=20, interpolation=2, border_mode=0, value=None, mask_value=None, approximate=False, same_dxdy=False),\n",
       "    GridDistortion(always_apply=False, p=1.0, num_steps=8, distort_limit=(-0.3, 0.3), interpolation=2, border_mode=0, value=None, mask_value=None, normalized=False),\n",
       "    CoarseDropout(always_apply=False, p=1.0, max_holes=32, max_height=12, max_width=12, min_holes=2, min_height=12, min_width=12, fill_value=0, mask_fill_value=None),\n",
       "    NoOp(always_apply=False, p=1.0),\n",
       "  ], p=1.0),\n",
       "], p=1.0, bbox_params=None, keypoint_params=None, additional_targets={}, is_check_shapes=True)"
      ]
     },
     "execution_count": 6,
     "metadata": {},
     "output_type": "execute_result"
    }
   ],
   "source": [
    "block1234_and_default"
   ]
  },
  {
   "cell_type": "code",
   "execution_count": null,
   "id": "6b14132b-9841-4d00-9ab9-798553aa4b90",
   "metadata": {},
   "outputs": [],
   "source": []
  }
 ],
 "metadata": {
  "kernelspec": {
   "display_name": "Python 3 (ipykernel)",
   "language": "python",
   "name": "python3"
  },
  "language_info": {
   "codemirror_mode": {
    "name": "ipython",
    "version": 3
   },
   "file_extension": ".py",
   "mimetype": "text/x-python",
   "name": "python",
   "nbconvert_exporter": "python",
   "pygments_lexer": "ipython3",
   "version": "3.9.17"
  }
 },
 "nbformat": 4,
 "nbformat_minor": 5
}
