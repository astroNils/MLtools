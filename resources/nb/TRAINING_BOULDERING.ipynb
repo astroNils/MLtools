{
 "cells": [
  {
   "cell_type": "markdown",
   "id": "9a78a6aa-862a-4fe3-94c6-62562859613f",
   "metadata": {},
   "source": [
    "## Training of Mask R-CNN\n",
    "\n",
    "The training of the algorithm can be done in the terminal. \n",
    "\n",
    "```bash\n",
    "# cd to the MLtools GIT repository\n",
    "cd projects/bouldering/\n",
    "python train_net.py --help # if you want to have information about the different inputs\n",
    "\n",
    "usage: train_net.py [-h] [--config-file FILE] [--resume] [--eval-only] [--num-gpus NUM_GPUS] [--num-machines NUM_MACHINES] [--machine-rank MACHINE_RANK] [--aug-path FILE]\n",
    "                    [--min-area-npixels MIN_AREA_NPIXELS] [--optimizer-name OPTIMIZER_NAME] [--scheduler-mode SCHEDULER_MODE] [--dist-url DIST_URL]\n",
    "                    ...\n",
    "\n",
    "positional arguments:\n",
    "  opts                  Modify config options at the end of the command. For Yacs configs, use space-separated \"PATH.KEY VALUE\" pairs. For python-based LazyConfig, use \"path.key=value\".\n",
    "\n",
    "optional arguments:\n",
    "  -h, --help            show this help message and exit\n",
    "  --config-file FILE    path to config file\n",
    "  --resume              Whether to attempt to resume from the checkpoint directory. See documentation of `DefaultTrainer.resume_or_load()` for what it means.\n",
    "  --eval-only           perform evaluation only\n",
    "  --num-gpus NUM_GPUS   number of gpus *per machine*\n",
    "  --num-machines NUM_MACHINES\n",
    "                        total number of machines\n",
    "  --machine-rank MACHINE_RANK\n",
    "                        the rank of this machine (unique per machine)\n",
    "  --aug-path FILE       path to augmentation file\n",
    "  --min-area-npixels MIN_AREA_NPIXELS\n",
    "                        threshold for filtering masks smaller than X pixels\n",
    "  --optimizer-name OPTIMIZER_NAME\n",
    "                        optimizer name (SGD, ADAM, ADAMW)\n",
    "  --scheduler-mode SCHEDULER_MODE\n",
    "                        mode of cycling in CyclingLR\n",
    "  --dist-url DIST_URL   initialization URL for pytorch distributed backend. See https://pytorch.org/docs/stable/distributed.html for details.\n",
    "\n",
    "```"
   ]
  },
  {
   "cell_type": "code",
   "execution_count": null,
   "id": "c40e0083-fbd7-4046-a5e0-aa56b9a31f29",
   "metadata": {},
   "outputs": [],
   "source": []
  }
 ],
 "metadata": {
  "kernelspec": {
   "display_name": "Python 3 (ipykernel)",
   "language": "python",
   "name": "python3"
  },
  "language_info": {
   "codemirror_mode": {
    "name": "ipython",
    "version": 3
   },
   "file_extension": ".py",
   "mimetype": "text/x-python",
   "name": "python",
   "nbconvert_exporter": "python",
   "pygments_lexer": "ipython3",
   "version": "3.9.17"
  }
 },
 "nbformat": 4,
 "nbformat_minor": 5
}
