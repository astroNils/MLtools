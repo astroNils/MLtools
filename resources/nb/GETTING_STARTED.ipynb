{
 "cells": [
  {
   "cell_type": "markdown",
   "id": "693ba603-1ca5-4373-b40e-9288fd4f3be2",
   "metadata": {},
   "source": [
    "# Getting Started with MLtools\n",
    "This document provides an introduction of MLtools.  \n",
    "\n",
    "## Functionalities\n",
    "\n",
    "+ functions to pre-process data that are stored as shapefiles and rasters to an input that can be imported in Mask R-CNN\n",
    "+ functions to use a trained model to make predictions and save results as shapefile\n",
    "+ functions to plots/visualise predictions (under construction)\n",
    "\n",
    "## Projects\n",
    "The projects folder contain two projects I have been working with the two last years. One project is an instance segmentation  \n",
    "+ BOULDERING (automatic detection of boulders / instance segmentation)\n",
    "+ POLLEN (automatic detection of sterile and fertile pollens / object classification, detection)\n",
    "\n",
    "Both projects used transfer learning with a pre-trained version of Mask R-CNN with ResNet50 as backbone. The structure of the projects are inspired by the projects folder on the [detectron2 github](https://github.com/facebookresearch/detectron2).\n",
    "\n",
    "## For how to download the input data of this project\n",
    "See jupyter-notebook: \n",
    "\n",
    "## For how to pre-process the raw data\n",
    "See jupyter-notebook: \n",
    "\n",
    "## For how to make predictions\n",
    "See jupyter-notebook: "
   ]
  },
  {
   "cell_type": "code",
   "execution_count": null,
   "id": "f0e29d59-f899-4c6f-9737-4385ffa23b97",
   "metadata": {},
   "outputs": [],
   "source": []
  }
 ],
 "metadata": {
  "kernelspec": {
   "display_name": "Python 3 (ipykernel)",
   "language": "python",
   "name": "python3"
  },
  "language_info": {
   "codemirror_mode": {
    "name": "ipython",
    "version": 3
   },
   "file_extension": ".py",
   "mimetype": "text/x-python",
   "name": "python",
   "nbconvert_exporter": "python",
   "pygments_lexer": "ipython3",
   "version": "3.9.17"
  }
 },
 "nbformat": 4,
 "nbformat_minor": 5
}
